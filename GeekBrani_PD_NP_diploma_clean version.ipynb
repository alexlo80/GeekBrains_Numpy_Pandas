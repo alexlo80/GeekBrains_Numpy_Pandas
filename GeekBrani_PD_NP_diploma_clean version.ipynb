{
 "cells": [
  {
   "cell_type": "code",
   "execution_count": 2271,
   "metadata": {},
   "outputs": [],
   "source": [
    "import pandas as pd\n",
    "\n",
    "df = pd.read_csv(\"realestatepriceprediction/train.csv\")\n",
    "df['label'] = 'train'\n",
    "# X = df.drop('Price', axis=1)\n",
    "# y = df[['Price']]\n",
    "\n",
    "X_final = pd.read_csv('realestatepriceprediction/test.csv')\n",
    "X_final['label'] = 'test'\n",
    "\n",
    "# Concat\n",
    "concat_df = pd.concat([df , X_final])\n",
    "\n",
    "\n",
    "# сразу создам\n",
    "#  НЕ ПОНЯЛ ЗАЧЕМ?\n",
    "#  копирют ID из теста в df preds_final\n",
    "preds_final = pd.DataFrame()\n",
    "preds_final['Id'] = X_final['Id'].copy()\n",
    "\n",
    "# заменили штатный Id на ID дынный сетом данных и индексировали по этому столбу\n",
    "# X.set_index('Id', inplace=True)\n",
    "# X_final.set_index('Id', inplace=True)\n",
    "concat_df.set_index('Id', inplace=True)\n",
    "\n",
    "# print('Строк в трейне:' ,  X.shape[0])\n",
    "# print('Строк в тесте', X_final.shape[0])\n"
   ]
  },
  {
   "cell_type": "code",
   "execution_count": 2272,
   "metadata": {},
   "outputs": [],
   "source": [
    "# concat_df.describe(include='all')"
   ]
  },
  {
   "cell_type": "code",
   "execution_count": 2273,
   "metadata": {},
   "outputs": [],
   "source": [
    "# df.Ecology_3.unique()"
   ]
  },
  {
   "cell_type": "code",
   "execution_count": 2274,
   "metadata": {},
   "outputs": [],
   "source": [
    "# df.Shops_1.values"
   ]
  },
  {
   "cell_type": "code",
   "execution_count": 2275,
   "metadata": {},
   "outputs": [
    {
     "data": {
      "text/html": [
       "<div>\n",
       "<style scoped>\n",
       "    .dataframe tbody tr th:only-of-type {\n",
       "        vertical-align: middle;\n",
       "    }\n",
       "\n",
       "    .dataframe tbody tr th {\n",
       "        vertical-align: top;\n",
       "    }\n",
       "\n",
       "    .dataframe thead th {\n",
       "        text-align: right;\n",
       "    }\n",
       "</style>\n",
       "<table border=\"1\" class=\"dataframe\">\n",
       "  <thead>\n",
       "    <tr style=\"text-align: right;\">\n",
       "      <th></th>\n",
       "      <th>Ecology_2</th>\n",
       "      <th>Ecology_3</th>\n",
       "      <th>Shops_2</th>\n",
       "      <th>label</th>\n",
       "    </tr>\n",
       "  </thead>\n",
       "  <tbody>\n",
       "    <tr>\n",
       "      <th>count</th>\n",
       "      <td>15000</td>\n",
       "      <td>15000</td>\n",
       "      <td>15000</td>\n",
       "      <td>15000</td>\n",
       "    </tr>\n",
       "    <tr>\n",
       "      <th>unique</th>\n",
       "      <td>2</td>\n",
       "      <td>2</td>\n",
       "      <td>2</td>\n",
       "      <td>2</td>\n",
       "    </tr>\n",
       "    <tr>\n",
       "      <th>top</th>\n",
       "      <td>B</td>\n",
       "      <td>B</td>\n",
       "      <td>B</td>\n",
       "      <td>train</td>\n",
       "    </tr>\n",
       "    <tr>\n",
       "      <th>freq</th>\n",
       "      <td>14855</td>\n",
       "      <td>14576</td>\n",
       "      <td>13763</td>\n",
       "      <td>10000</td>\n",
       "    </tr>\n",
       "  </tbody>\n",
       "</table>\n",
       "</div>"
      ],
      "text/plain": [
       "       Ecology_2 Ecology_3 Shops_2  label\n",
       "count      15000     15000   15000  15000\n",
       "unique         2         2       2      2\n",
       "top            B         B       B  train\n",
       "freq       14855     14576   13763  10000"
      ]
     },
     "execution_count": 2275,
     "metadata": {},
     "output_type": "execute_result"
    }
   ],
   "source": [
    "concat_df.describe(include=['object'])"
   ]
  },
  {
   "cell_type": "code",
   "execution_count": 2276,
   "metadata": {},
   "outputs": [],
   "source": [
    "# заменили все категориальные признаки на цифры\n",
    "concat_df.replace(to_replace='A', value=0, inplace=True)\n",
    "concat_df.replace(to_replace='B', value=1, inplace=True)"
   ]
  },
  {
   "cell_type": "code",
   "execution_count": 2277,
   "metadata": {},
   "outputs": [],
   "source": [
    "concat_df['DistrictId'] = concat_df['DistrictId'].astype(str)"
   ]
  },
  {
   "cell_type": "code",
   "execution_count": 1,
   "metadata": {},
   "outputs": [],
   "source": [
    "# concat_df.info()"
   ]
  },
  {
   "cell_type": "code",
   "execution_count": 2279,
   "metadata": {},
   "outputs": [],
   "source": [
    "# Rooms\n",
    "concat_df['Rooms_outlier'] = 0\n",
    "concat_df.loc[(concat_df['Rooms'] == 0) | (concat_df['Rooms'] >= 6), 'Rooms_outlier'] = 1\n",
    "concat_df.loc[concat_df['Rooms'] < 1, 'Rooms'] = 1"
   ]
  },
  {
   "cell_type": "code",
   "execution_count": 2280,
   "metadata": {},
   "outputs": [],
   "source": [
    " # KitchenSquare\n",
    "concat_df['KitchenSquare_outlier'] = 0\n",
    "concat_df.loc[(concat_df['KitchenSquare'] < 3) | (concat_df['KitchenSquare'] > 500),'KitchenSquare_outlier'] = 1\n",
    "\n",
    "concat_df['KitchenSquare_outlier2'] = 0\n",
    "concat_df.loc[(concat_df['LifeSquare']//concat_df['KitchenSquare'])<1,'KitchenSquare_outlier2'] = 1\n",
    "concat_df.loc[(concat_df['LifeSquare']//concat_df['KitchenSquare'])<1,'KitchenSquare'] = concat_df['KitchenSquare'].median()\n",
    "\n",
    "concat_df['KitchenSquare_outlier3'] = 0\n",
    "concat_df.loc[(concat_df['KitchenSquare'] - concat_df['KitchenSquare'].mean()).abs() > 3 * concat_df['KitchenSquare'].std(), 'KitchenSquare_outlier3'] = 1"
   ]
  },
  {
   "cell_type": "code",
   "execution_count": 2281,
   "metadata": {},
   "outputs": [],
   "source": [
    "# HouseFloor, Floor\n",
    "concat_df['HouseFloor_outlier'] = 0\n",
    "concat_df.loc[concat_df['HouseFloor'] == 0, 'HouseFloor_outlier'] = 1\n",
    "concat_df.loc[concat_df['HouseFloor'] == 0, 'HouseFloor'] = 1 #self.medians['HouseFloor']\n",
    "\n",
    "concat_df['HouseFloor_outlier2'] = 0\n",
    "concat_df.loc[concat_df['Floor'] > concat_df['HouseFloor'], 'HouseFloor_outlier2'] = 1\n",
    "concat_df.loc[concat_df['Floor'] > concat_df['HouseFloor'], 'Floor'] = concat_df.loc[concat_df['Floor'] > concat_df['HouseFloor'], 'HouseFloor']"
   ]
  },
  {
   "cell_type": "code",
   "execution_count": 2282,
   "metadata": {},
   "outputs": [],
   "source": [
    "# HouseYear\n",
    "import datetime\n",
    "\n",
    "current_year = now = datetime.datetime.now().year\n",
    "\n",
    "concat_df['HouseYear_outlier'] = 0\n",
    "concat_df.loc[concat_df['HouseYear'] > current_year, 'HouseYear_outlier'] = 1\n",
    "concat_df.loc[concat_df['HouseYear'] > current_year, 'HouseYear'] = current_year"
   ]
  },
  {
   "cell_type": "code",
   "execution_count": 2283,
   "metadata": {},
   "outputs": [],
   "source": [
    "#         Square\n",
    "concat_df['Square_outlier'] = 0\n",
    "concat_df.loc[concat_df['Square'] < concat_df['LifeSquare'], 'Square_outlier'] = 1\n",
    "concat_df.loc[concat_df['Square'] < concat_df['LifeSquare'], 'Square'] = concat_df['LifeSquare'] + concat_df['KitchenSquare']\n",
    "\n",
    "concat_df['Square_outlier2'] = 0\n",
    "concat_df.loc[concat_df['Square'] > 1000, 'Square_outlier2'] = 1\n",
    "concat_df.loc[concat_df['Square'] > 1000, 'Square'] = concat_df['Square'].median()\n",
    "\n",
    "concat_df['Square_outlier3'] = 0\n",
    "concat_df.loc[(concat_df['Square'] - concat_df['Square'].mean()).abs() > 3 * concat_df['Square'].std(), 'Square_outlier3'] = 1"
   ]
  },
  {
   "cell_type": "code",
   "execution_count": 2284,
   "metadata": {},
   "outputs": [],
   "source": [
    "concat_df.drop('Healthcare_1', axis=1, inplace=True)"
   ]
  },
  {
   "cell_type": "code",
   "execution_count": 2285,
   "metadata": {},
   "outputs": [],
   "source": [
    "concat_df['LifeSquare_nan'] = concat_df['LifeSquare'].isna() * 1\n",
    "        \n",
    "condition = (concat_df['LifeSquare'].isna()) &\\\n",
    "              (~concat_df['Square'].isna()) & \\\n",
    "              (~concat_df['KitchenSquare'].isna())\n",
    "\n",
    "concat_df.loc[condition, 'LifeSquare'] = concat_df.loc[condition, 'Square'] - concat_df.loc[condition, 'KitchenSquare'] - 3"
   ]
  },
  {
   "cell_type": "code",
   "execution_count": null,
   "metadata": {},
   "outputs": [],
   "source": []
  },
  {
   "cell_type": "code",
   "execution_count": 2286,
   "metadata": {},
   "outputs": [],
   "source": [
    "# df[df.HouseYear>2020]"
   ]
  },
  {
   "cell_type": "code",
   "execution_count": 2287,
   "metadata": {},
   "outputs": [],
   "source": [
    "# # заменили кривые даты строительства домов\n",
    "# df['HouseYear'] = df['HouseYear'].replace([4968],1913)\n",
    "# # df['HouseYear'] = df['HouseYear'].replace([20052011],2005)"
   ]
  },
  {
   "cell_type": "code",
   "execution_count": 2288,
   "metadata": {},
   "outputs": [],
   "source": [
    "# df[df.HouseYear>2020]"
   ]
  },
  {
   "cell_type": "code",
   "execution_count": 2289,
   "metadata": {},
   "outputs": [],
   "source": [
    "# df.Square[df.Square<df.LifeSquare]"
   ]
  },
  {
   "cell_type": "code",
   "execution_count": 2290,
   "metadata": {},
   "outputs": [],
   "source": [
    "# заменили там, где общая площадь была меньше жилой\n",
    "# df.Square[df.Square<df.LifeSquare]=df.LifeSquare+df.KitchenSquare"
   ]
  },
  {
   "cell_type": "code",
   "execution_count": 2291,
   "metadata": {},
   "outputs": [],
   "source": [
    "# df[df.Square<df.LifeSquare]"
   ]
  },
  {
   "cell_type": "code",
   "execution_count": 2292,
   "metadata": {},
   "outputs": [
    {
     "data": {
      "text/plain": [
       "<matplotlib.collections.PathCollection at 0x1b7321bcd08>"
      ]
     },
     "execution_count": 2292,
     "metadata": {},
     "output_type": "execute_result"
    },
    {
     "data": {
      "image/png": "[encoded data removed]",
      "text/plain": [
       "<Figure size 432x288 with 1 Axes>"
      ]
     },
     "metadata": {
      "needs_background": "light"
     },
     "output_type": "display_data"
    }
   ],
   "source": [
    "import matplotlib.pyplot as plt\n",
    "%matplotlib inline\n",
    "\n",
    "plt.scatter(df['Square'], df['Price'])"
   ]
  },
  {
   "cell_type": "code",
   "execution_count": 2293,
   "metadata": {},
   "outputs": [],
   "source": [
    "# df[df.Square>1000]"
   ]
  },
  {
   "cell_type": "code",
   "execution_count": 2294,
   "metadata": {},
   "outputs": [],
   "source": [
    "# rooms_3 = df[df['Rooms']==3]"
   ]
  },
  {
   "cell_type": "code",
   "execution_count": 2295,
   "metadata": {},
   "outputs": [],
   "source": [
    "# rooms_3.Square.median()"
   ]
  },
  {
   "cell_type": "code",
   "execution_count": 2296,
   "metadata": {},
   "outputs": [],
   "source": [
    "# # заменили выброс на медиану для трехкомнатных\n",
    "# df.loc[df.Square>1000,\"Square\"] = rooms_3.Square.median()\n"
   ]
  },
  {
   "cell_type": "code",
   "execution_count": 2297,
   "metadata": {},
   "outputs": [],
   "source": [
    "# df[df.Square>1000]"
   ]
  },
  {
   "cell_type": "code",
   "execution_count": 2298,
   "metadata": {},
   "outputs": [
    {
     "data": {
      "text/plain": [
       "<matplotlib.collections.PathCollection at 0x1b734f89348>"
      ]
     },
     "execution_count": 2298,
     "metadata": {},
     "output_type": "execute_result"
    },
    {
     "data": {
      "image/png": "[encoded data removed]",
      "text/plain": [
       "<Figure size 432x288 with 1 Axes>"
      ]
     },
     "metadata": {
      "needs_background": "light"
     },
     "output_type": "display_data"
    }
   ],
   "source": [
    "plt.scatter(df['Square'], df['Price'])"
   ]
  },
  {
   "cell_type": "code",
   "execution_count": 2299,
   "metadata": {},
   "outputs": [
    {
     "data": {
      "text/plain": [
       "<matplotlib.collections.PathCollection at 0x1b735296248>"
      ]
     },
     "execution_count": 2299,
     "metadata": {},
     "output_type": "execute_result"
    },
    {
     "data": {
      "image/png": "[encoded data removed]",
      "text/plain": [
       "<Figure size 432x288 with 1 Axes>"
      ]
     },
     "metadata": {
      "needs_background": "light"
     },
     "output_type": "display_data"
    }
   ],
   "source": [
    "import matplotlib.pyplot as plt\n",
    "%matplotlib inline\n",
    "\n",
    "plt.scatter(df['LifeSquare'], df['Price'])"
   ]
  },
  {
   "cell_type": "code",
   "execution_count": 2300,
   "metadata": {},
   "outputs": [],
   "source": [
    "# # заменили выброс на медиану для трехкомнатных\n",
    "# df.loc[df.LifeSquare>1000,\"LifeSquare\"] = rooms_3.LifeSquare.median()"
   ]
  },
  {
   "cell_type": "code",
   "execution_count": 2301,
   "metadata": {},
   "outputs": [
    {
     "data": {
      "text/plain": [
       "<matplotlib.collections.PathCollection at 0x1b7352fc888>"
      ]
     },
     "execution_count": 2301,
     "metadata": {},
     "output_type": "execute_result"
    },
    {
     "data": {
      "image/png": "[encoded data removed]",
      "text/plain": [
       "<Figure size 432x288 with 1 Axes>"
      ]
     },
     "metadata": {
      "needs_background": "light"
     },
     "output_type": "display_data"
    }
   ],
   "source": [
    "import matplotlib.pyplot as plt\n",
    "%matplotlib inline\n",
    "\n",
    "plt.scatter(df['LifeSquare'], df['Price'])"
   ]
  },
  {
   "cell_type": "code",
   "execution_count": 2302,
   "metadata": {},
   "outputs": [],
   "source": [
    "# df[(df['Square'] - df['Square'].mean()).abs() > 3 * df['Square'].std()]\n",
    "\n",
    "# # что с таки делать?? либо заменить на средние, либо сделать отдельный столбик с категорией за 3 сигма?????"
   ]
  },
  {
   "cell_type": "code",
   "execution_count": 2303,
   "metadata": {},
   "outputs": [],
   "source": [
    "# df[\"Rooms\"].value_counts()"
   ]
  },
  {
   "cell_type": "code",
   "execution_count": 2304,
   "metadata": {},
   "outputs": [],
   "source": [
    "# for i in df.columns:\n",
    "#     print(f'Column- {i},unique- {df[i].nunique()}')"
   ]
  },
  {
   "cell_type": "code",
   "execution_count": 2305,
   "metadata": {},
   "outputs": [],
   "source": [
    "# df.columns"
   ]
  },
  {
   "cell_type": "code",
   "execution_count": 2306,
   "metadata": {},
   "outputs": [],
   "source": [
    "# # Исключаем признак \"id\"\n",
    "# df = df[df.columns[1:]]\n",
    "# df.columns"
   ]
  },
  {
   "cell_type": "code",
   "execution_count": 2307,
   "metadata": {},
   "outputs": [],
   "source": [
    "# df.head()"
   ]
  },
  {
   "cell_type": "code",
   "execution_count": 2308,
   "metadata": {},
   "outputs": [],
   "source": [
    "# df.describe().T"
   ]
  },
  {
   "cell_type": "code",
   "execution_count": 2309,
   "metadata": {},
   "outputs": [],
   "source": [
    "# df[df.HouseFloor == 0]"
   ]
  },
  {
   "cell_type": "code",
   "execution_count": 2310,
   "metadata": {},
   "outputs": [],
   "source": [
    "# # заменили дома с 0 этажей\n",
    "# df.loc[df.HouseFloor == 0,\"HouseFloor\"] = df.HouseFloor.mean()"
   ]
  },
  {
   "cell_type": "code",
   "execution_count": 2311,
   "metadata": {},
   "outputs": [],
   "source": [
    "# df[df.HouseFloor == 0]"
   ]
  },
  {
   "cell_type": "code",
   "execution_count": 2312,
   "metadata": {},
   "outputs": [],
   "source": [
    "# df.nlargest(5, 'Floor_in the house')"
   ]
  },
  {
   "cell_type": "code",
   "execution_count": 2313,
   "metadata": {},
   "outputs": [],
   "source": [
    "# заменили этаж дома, там где он меньше этажа квартиры\n",
    "# df.HouseFloor[df.HouseFloor < df.Floor] = df.Floor"
   ]
  },
  {
   "cell_type": "code",
   "execution_count": 2314,
   "metadata": {},
   "outputs": [],
   "source": [
    "# df.nlargest(5, 'Floor_in the house')"
   ]
  },
  {
   "cell_type": "code",
   "execution_count": 2315,
   "metadata": {},
   "outputs": [],
   "source": [
    "# Доля жилой площади в общей площади\n",
    "concat_df['LifeSquare_share'] = concat_df['LifeSquare'] / concat_df['Square'] * 100\n",
    "\n",
    "# Доля площади кухни в общей площади\n",
    "concat_df['KitchenSquare_share'] = concat_df['KitchenSquare'] / concat_df['Square']* 100"
   ]
  },
  {
   "cell_type": "code",
   "execution_count": 2316,
   "metadata": {},
   "outputs": [],
   "source": [
    "# Доля этажа в общей высоте дома\n",
    "concat_df['Floor_in the house'] = concat_df['Floor'] / concat_df['HouseFloor']* 100"
   ]
  },
  {
   "cell_type": "code",
   "execution_count": 2317,
   "metadata": {},
   "outputs": [
    {
     "data": {
      "text/html": [
       "<div>\n",
       "<style scoped>\n",
       "    .dataframe tbody tr th:only-of-type {\n",
       "        vertical-align: middle;\n",
       "    }\n",
       "\n",
       "    .dataframe tbody tr th {\n",
       "        vertical-align: top;\n",
       "    }\n",
       "\n",
       "    .dataframe thead th {\n",
       "        text-align: right;\n",
       "    }\n",
       "</style>\n",
       "<table border=\"1\" class=\"dataframe\">\n",
       "  <thead>\n",
       "    <tr style=\"text-align: right;\">\n",
       "      <th></th>\n",
       "      <th>median_rooms_district</th>\n",
       "    </tr>\n",
       "    <tr>\n",
       "      <th>DistrictId</th>\n",
       "      <th></th>\n",
       "    </tr>\n",
       "  </thead>\n",
       "  <tbody>\n",
       "    <tr>\n",
       "      <th>195</th>\n",
       "      <td>4.0</td>\n",
       "    </tr>\n",
       "    <tr>\n",
       "      <th>117</th>\n",
       "      <td>3.0</td>\n",
       "    </tr>\n",
       "    <tr>\n",
       "      <th>137</th>\n",
       "      <td>3.0</td>\n",
       "    </tr>\n",
       "    <tr>\n",
       "      <th>159</th>\n",
       "      <td>3.0</td>\n",
       "    </tr>\n",
       "    <tr>\n",
       "      <th>16</th>\n",
       "      <td>3.0</td>\n",
       "    </tr>\n",
       "  </tbody>\n",
       "</table>\n",
       "</div>"
      ],
      "text/plain": [
       "            median_rooms_district\n",
       "DistrictId                       \n",
       "195                           4.0\n",
       "117                           3.0\n",
       "137                           3.0\n",
       "159                           3.0\n",
       "16                            3.0"
      ]
     },
     "execution_count": 2317,
     "metadata": {},
     "output_type": "execute_result"
    }
   ],
   "source": [
    "concat_df_cat = concat_df.groupby('DistrictId')['Rooms'].median()\n",
    "concat_df_cat = pd.DataFrame(concat_df_cat)\n",
    "\n",
    "# переименовали заголовок\n",
    "concat_df_cat.rename(columns={'Rooms': 'median_rooms_district'},\n",
    "             inplace=True)\n",
    "concat_df_cat.nlargest(5,'median_rooms_district')"
   ]
  },
  {
   "cell_type": "code",
   "execution_count": null,
   "metadata": {},
   "outputs": [],
   "source": [
    "# X_final_cat = X_final.groupby('DistrictId')['Rooms'].median()\n",
    "# X_final_cat = pd.DataFrame(X_final_cat)\n",
    "\n",
    "# # переименовали заголовок\n",
    "# X_final_cat.rename(columns={'Rooms': 'median_rooms_district'},\n",
    "#              inplace=True)\n",
    "# X_final = X_final.merge(X_final_cat, on='DistrictId')\n",
    "\n",
    "# X_final.head(3)"
   ]
  },
  {
   "cell_type": "code",
   "execution_count": 2318,
   "metadata": {},
   "outputs": [
    {
     "data": {
      "text/html": [
       "<div>\n",
       "<style scoped>\n",
       "    .dataframe tbody tr th:only-of-type {\n",
       "        vertical-align: middle;\n",
       "    }\n",
       "\n",
       "    .dataframe tbody tr th {\n",
       "        vertical-align: top;\n",
       "    }\n",
       "\n",
       "    .dataframe thead th {\n",
       "        text-align: right;\n",
       "    }\n",
       "</style>\n",
       "<table border=\"1\" class=\"dataframe\">\n",
       "  <thead>\n",
       "    <tr style=\"text-align: right;\">\n",
       "      <th></th>\n",
       "      <th>DistrictId</th>\n",
       "      <th>Rooms</th>\n",
       "      <th>Square</th>\n",
       "      <th>LifeSquare</th>\n",
       "      <th>KitchenSquare</th>\n",
       "      <th>Floor</th>\n",
       "      <th>HouseFloor</th>\n",
       "      <th>HouseYear</th>\n",
       "      <th>Ecology_1</th>\n",
       "      <th>Ecology_2</th>\n",
       "      <th>...</th>\n",
       "      <th>HouseFloor_outlier2</th>\n",
       "      <th>HouseYear_outlier</th>\n",
       "      <th>Square_outlier</th>\n",
       "      <th>Square_outlier2</th>\n",
       "      <th>Square_outlier3</th>\n",
       "      <th>LifeSquare_nan</th>\n",
       "      <th>LifeSquare_share</th>\n",
       "      <th>KitchenSquare_share</th>\n",
       "      <th>Floor_in the house</th>\n",
       "      <th>median_rooms_district</th>\n",
       "    </tr>\n",
       "  </thead>\n",
       "  <tbody>\n",
       "    <tr>\n",
       "      <th>0</th>\n",
       "      <td>35</td>\n",
       "      <td>2.0</td>\n",
       "      <td>47.981561</td>\n",
       "      <td>29.442751</td>\n",
       "      <td>6.0</td>\n",
       "      <td>7.0</td>\n",
       "      <td>9.0</td>\n",
       "      <td>1969</td>\n",
       "      <td>0.08904</td>\n",
       "      <td>1</td>\n",
       "      <td>...</td>\n",
       "      <td>0</td>\n",
       "      <td>0</td>\n",
       "      <td>0</td>\n",
       "      <td>0</td>\n",
       "      <td>0</td>\n",
       "      <td>0</td>\n",
       "      <td>61.362636</td>\n",
       "      <td>12.504804</td>\n",
       "      <td>77.777778</td>\n",
       "      <td>2.0</td>\n",
       "    </tr>\n",
       "    <tr>\n",
       "      <th>1</th>\n",
       "      <td>35</td>\n",
       "      <td>3.0</td>\n",
       "      <td>63.851403</td>\n",
       "      <td>47.245735</td>\n",
       "      <td>6.0</td>\n",
       "      <td>7.0</td>\n",
       "      <td>9.0</td>\n",
       "      <td>1971</td>\n",
       "      <td>0.08904</td>\n",
       "      <td>1</td>\n",
       "      <td>...</td>\n",
       "      <td>0</td>\n",
       "      <td>0</td>\n",
       "      <td>0</td>\n",
       "      <td>0</td>\n",
       "      <td>0</td>\n",
       "      <td>0</td>\n",
       "      <td>73.993261</td>\n",
       "      <td>9.396818</td>\n",
       "      <td>77.777778</td>\n",
       "      <td>2.0</td>\n",
       "    </tr>\n",
       "    <tr>\n",
       "      <th>2</th>\n",
       "      <td>35</td>\n",
       "      <td>1.0</td>\n",
       "      <td>47.410775</td>\n",
       "      <td>44.410775</td>\n",
       "      <td>0.0</td>\n",
       "      <td>1.0</td>\n",
       "      <td>1.0</td>\n",
       "      <td>1977</td>\n",
       "      <td>0.08904</td>\n",
       "      <td>1</td>\n",
       "      <td>...</td>\n",
       "      <td>1</td>\n",
       "      <td>0</td>\n",
       "      <td>0</td>\n",
       "      <td>0</td>\n",
       "      <td>0</td>\n",
       "      <td>1</td>\n",
       "      <td>93.672324</td>\n",
       "      <td>0.000000</td>\n",
       "      <td>100.000000</td>\n",
       "      <td>2.0</td>\n",
       "    </tr>\n",
       "  </tbody>\n",
       "</table>\n",
       "<p>3 rows × 34 columns</p>\n",
       "</div>"
      ],
      "text/plain": [
       "  DistrictId  Rooms     Square  LifeSquare  KitchenSquare  Floor  HouseFloor  \\\n",
       "0         35    2.0  47.981561   29.442751            6.0    7.0         9.0   \n",
       "1         35    3.0  63.851403   47.245735            6.0    7.0         9.0   \n",
       "2         35    1.0  47.410775   44.410775            0.0    1.0         1.0   \n",
       "\n",
       "   HouseYear  Ecology_1  Ecology_2  ...  HouseFloor_outlier2  \\\n",
       "0       1969    0.08904          1  ...                    0   \n",
       "1       1971    0.08904          1  ...                    0   \n",
       "2       1977    0.08904          1  ...                    1   \n",
       "\n",
       "   HouseYear_outlier  Square_outlier  Square_outlier2  Square_outlier3  \\\n",
       "0                  0               0                0                0   \n",
       "1                  0               0                0                0   \n",
       "2                  0               0                0                0   \n",
       "\n",
       "   LifeSquare_nan  LifeSquare_share  KitchenSquare_share Floor_in the house  \\\n",
       "0               0         61.362636            12.504804          77.777778   \n",
       "1               0         73.993261             9.396818          77.777778   \n",
       "2               1         93.672324             0.000000         100.000000   \n",
       "\n",
       "   median_rooms_district  \n",
       "0                    2.0  \n",
       "1                    2.0  \n",
       "2                    2.0  \n",
       "\n",
       "[3 rows x 34 columns]"
      ]
     },
     "execution_count": 2318,
     "metadata": {},
     "output_type": "execute_result"
    }
   ],
   "source": [
    "concat_df = concat_df.merge(concat_df_cat, on='DistrictId')\n",
    "\n",
    "concat_df.head(3)"
   ]
  },
  {
   "cell_type": "code",
   "execution_count": 2319,
   "metadata": {},
   "outputs": [
    {
     "data": {
      "text/html": [
       "<div>\n",
       "<style scoped>\n",
       "    .dataframe tbody tr th:only-of-type {\n",
       "        vertical-align: middle;\n",
       "    }\n",
       "\n",
       "    .dataframe tbody tr th {\n",
       "        vertical-align: top;\n",
       "    }\n",
       "\n",
       "    .dataframe thead th {\n",
       "        text-align: right;\n",
       "    }\n",
       "</style>\n",
       "<table border=\"1\" class=\"dataframe\">\n",
       "  <thead>\n",
       "    <tr style=\"text-align: right;\">\n",
       "      <th></th>\n",
       "      <th>median_rooms_house_year</th>\n",
       "    </tr>\n",
       "    <tr>\n",
       "      <th>HouseYear</th>\n",
       "      <th></th>\n",
       "    </tr>\n",
       "  </thead>\n",
       "  <tbody>\n",
       "    <tr>\n",
       "      <th>1908</th>\n",
       "      <td>5.0</td>\n",
       "    </tr>\n",
       "    <tr>\n",
       "      <th>1912</th>\n",
       "      <td>4.0</td>\n",
       "    </tr>\n",
       "    <tr>\n",
       "      <th>1940</th>\n",
       "      <td>4.0</td>\n",
       "    </tr>\n",
       "    <tr>\n",
       "      <th>1942</th>\n",
       "      <td>4.0</td>\n",
       "    </tr>\n",
       "    <tr>\n",
       "      <th>1943</th>\n",
       "      <td>4.0</td>\n",
       "    </tr>\n",
       "  </tbody>\n",
       "</table>\n",
       "</div>"
      ],
      "text/plain": [
       "           median_rooms_house_year\n",
       "HouseYear                         \n",
       "1908                           5.0\n",
       "1912                           4.0\n",
       "1940                           4.0\n",
       "1942                           4.0\n",
       "1943                           4.0"
      ]
     },
     "execution_count": 2319,
     "metadata": {},
     "output_type": "execute_result"
    }
   ],
   "source": [
    "concat_df_cat = concat_df.groupby('HouseYear')['Rooms'].median()\n",
    "concat_df_cat = pd.DataFrame(concat_df_cat)\n",
    "\n",
    "# переименовали заголовок\n",
    "concat_df_cat.rename(columns={'Rooms': 'median_rooms_house_year'},\n",
    "             inplace=True)\n",
    "concat_df_cat.nlargest(5,'median_rooms_house_year')"
   ]
  },
  {
   "cell_type": "code",
   "execution_count": null,
   "metadata": {},
   "outputs": [],
   "source": [
    "# X_final_cat = X_final.groupby('HouseYear')['Rooms'].median()\n",
    "# X_final_cat = pd.DataFrame(X_final_cat)\n",
    "\n",
    "# # переименовали заголовок\n",
    "# X_final_cat.rename(columns={'Rooms': 'median_rooms_house_year'},\n",
    "#              inplace=True)\n",
    "# X_final = X_final.merge(X_final_cat, on='HouseYear')\n",
    "\n",
    "# X_final.head(3)"
   ]
  },
  {
   "cell_type": "code",
   "execution_count": 2320,
   "metadata": {},
   "outputs": [
    {
     "data": {
      "text/html": [
       "<div>\n",
       "<style scoped>\n",
       "    .dataframe tbody tr th:only-of-type {\n",
       "        vertical-align: middle;\n",
       "    }\n",
       "\n",
       "    .dataframe tbody tr th {\n",
       "        vertical-align: top;\n",
       "    }\n",
       "\n",
       "    .dataframe thead th {\n",
       "        text-align: right;\n",
       "    }\n",
       "</style>\n",
       "<table border=\"1\" class=\"dataframe\">\n",
       "  <thead>\n",
       "    <tr style=\"text-align: right;\">\n",
       "      <th></th>\n",
       "      <th>DistrictId</th>\n",
       "      <th>Rooms</th>\n",
       "      <th>Square</th>\n",
       "      <th>LifeSquare</th>\n",
       "      <th>KitchenSquare</th>\n",
       "      <th>Floor</th>\n",
       "      <th>HouseFloor</th>\n",
       "      <th>HouseYear</th>\n",
       "      <th>Ecology_1</th>\n",
       "      <th>Ecology_2</th>\n",
       "      <th>...</th>\n",
       "      <th>HouseYear_outlier</th>\n",
       "      <th>Square_outlier</th>\n",
       "      <th>Square_outlier2</th>\n",
       "      <th>Square_outlier3</th>\n",
       "      <th>LifeSquare_nan</th>\n",
       "      <th>LifeSquare_share</th>\n",
       "      <th>KitchenSquare_share</th>\n",
       "      <th>Floor_in the house</th>\n",
       "      <th>median_rooms_district</th>\n",
       "      <th>median_rooms_house_year</th>\n",
       "    </tr>\n",
       "  </thead>\n",
       "  <tbody>\n",
       "    <tr>\n",
       "      <th>0</th>\n",
       "      <td>35</td>\n",
       "      <td>2.0</td>\n",
       "      <td>47.981561</td>\n",
       "      <td>29.442751</td>\n",
       "      <td>6.0</td>\n",
       "      <td>7.0</td>\n",
       "      <td>9.0</td>\n",
       "      <td>1969</td>\n",
       "      <td>0.08904</td>\n",
       "      <td>1</td>\n",
       "      <td>...</td>\n",
       "      <td>0</td>\n",
       "      <td>0</td>\n",
       "      <td>0</td>\n",
       "      <td>0</td>\n",
       "      <td>0</td>\n",
       "      <td>61.362636</td>\n",
       "      <td>12.504804</td>\n",
       "      <td>77.777778</td>\n",
       "      <td>2.0</td>\n",
       "      <td>2.0</td>\n",
       "    </tr>\n",
       "    <tr>\n",
       "      <th>1</th>\n",
       "      <td>35</td>\n",
       "      <td>2.0</td>\n",
       "      <td>43.325817</td>\n",
       "      <td>22.487877</td>\n",
       "      <td>6.0</td>\n",
       "      <td>7.0</td>\n",
       "      <td>14.0</td>\n",
       "      <td>1969</td>\n",
       "      <td>0.08904</td>\n",
       "      <td>1</td>\n",
       "      <td>...</td>\n",
       "      <td>0</td>\n",
       "      <td>0</td>\n",
       "      <td>0</td>\n",
       "      <td>0</td>\n",
       "      <td>0</td>\n",
       "      <td>51.904104</td>\n",
       "      <td>13.848556</td>\n",
       "      <td>50.000000</td>\n",
       "      <td>2.0</td>\n",
       "      <td>2.0</td>\n",
       "    </tr>\n",
       "    <tr>\n",
       "      <th>2</th>\n",
       "      <td>35</td>\n",
       "      <td>3.0</td>\n",
       "      <td>60.434211</td>\n",
       "      <td>42.717400</td>\n",
       "      <td>6.0</td>\n",
       "      <td>9.0</td>\n",
       "      <td>9.0</td>\n",
       "      <td>1969</td>\n",
       "      <td>0.08904</td>\n",
       "      <td>1</td>\n",
       "      <td>...</td>\n",
       "      <td>0</td>\n",
       "      <td>0</td>\n",
       "      <td>0</td>\n",
       "      <td>0</td>\n",
       "      <td>0</td>\n",
       "      <td>70.684136</td>\n",
       "      <td>9.928151</td>\n",
       "      <td>100.000000</td>\n",
       "      <td>2.0</td>\n",
       "      <td>2.0</td>\n",
       "    </tr>\n",
       "  </tbody>\n",
       "</table>\n",
       "<p>3 rows × 35 columns</p>\n",
       "</div>"
      ],
      "text/plain": [
       "  DistrictId  Rooms     Square  LifeSquare  KitchenSquare  Floor  HouseFloor  \\\n",
       "0         35    2.0  47.981561   29.442751            6.0    7.0         9.0   \n",
       "1         35    2.0  43.325817   22.487877            6.0    7.0        14.0   \n",
       "2         35    3.0  60.434211   42.717400            6.0    9.0         9.0   \n",
       "\n",
       "   HouseYear  Ecology_1  Ecology_2  ...  HouseYear_outlier  Square_outlier  \\\n",
       "0       1969    0.08904          1  ...                  0               0   \n",
       "1       1969    0.08904          1  ...                  0               0   \n",
       "2       1969    0.08904          1  ...                  0               0   \n",
       "\n",
       "   Square_outlier2  Square_outlier3  LifeSquare_nan  LifeSquare_share  \\\n",
       "0                0                0               0         61.362636   \n",
       "1                0                0               0         51.904104   \n",
       "2                0                0               0         70.684136   \n",
       "\n",
       "   KitchenSquare_share  Floor_in the house median_rooms_district  \\\n",
       "0            12.504804           77.777778                   2.0   \n",
       "1            13.848556           50.000000                   2.0   \n",
       "2             9.928151          100.000000                   2.0   \n",
       "\n",
       "   median_rooms_house_year  \n",
       "0                      2.0  \n",
       "1                      2.0  \n",
       "2                      2.0  \n",
       "\n",
       "[3 rows x 35 columns]"
      ]
     },
     "execution_count": 2320,
     "metadata": {},
     "output_type": "execute_result"
    }
   ],
   "source": [
    "concat_df = concat_df.merge(concat_df_cat, on='HouseYear')\n",
    "\n",
    "concat_df.head(3)"
   ]
  },
  {
   "cell_type": "code",
   "execution_count": 2321,
   "metadata": {},
   "outputs": [],
   "source": [
    "# Площадь комнаты\n",
    "concat_df['Room_square'] = concat_df['LifeSquare'] / concat_df['Rooms']"
   ]
  },
  {
   "cell_type": "code",
   "execution_count": 2322,
   "metadata": {},
   "outputs": [],
   "source": [
    "# df.head()"
   ]
  },
  {
   "cell_type": "code",
   "execution_count": 2323,
   "metadata": {},
   "outputs": [],
   "source": [
    "# df.Room_square.describe()"
   ]
  },
  {
   "cell_type": "code",
   "execution_count": 2324,
   "metadata": {},
   "outputs": [],
   "source": [
    "# df.nlargest(5, 'Room_square')"
   ]
  },
  {
   "cell_type": "code",
   "execution_count": 2325,
   "metadata": {},
   "outputs": [],
   "source": [
    "# # заменили все комнаты меньше 1 на 1\n",
    "# df.loc[df.Rooms <1,'Rooms'] = 1"
   ]
  },
  {
   "cell_type": "code",
   "execution_count": null,
   "metadata": {},
   "outputs": [],
   "source": [
    "# Стоимость м2\n",
    "X['Price'] = y.value\n",
    "X['Price_m2'] = X['Price'] / X['Square']\n",
    "X_final['Price_m2'] = 0\n",
    "\n",
    "X_cat = X.groupby('DistrictId')['Price_m2'].median()\n",
    "X_cat = pd.DataFrame(X_cat)\n",
    "\n",
    "# переименовали заголовок\n",
    "X_cat.rename(columns={'Price_m2': 'median_Price_m2'},\n",
    "             inplace=True)\n",
    "\n",
    "X = X.merge(X_cat, on='DistrictId')\n",
    "\n",
    "X.head(3)"
   ]
  },
  {
   "cell_type": "code",
   "execution_count": 2326,
   "metadata": {},
   "outputs": [],
   "source": [
    "# Стоимость м2\n",
    "concat_df['Price_m2'] = concat_df['Price'] / concat_df['Square']"
   ]
  },
  {
   "cell_type": "code",
   "execution_count": 2327,
   "metadata": {},
   "outputs": [
    {
     "data": {
      "text/html": [
       "<div>\n",
       "<style scoped>\n",
       "    .dataframe tbody tr th:only-of-type {\n",
       "        vertical-align: middle;\n",
       "    }\n",
       "\n",
       "    .dataframe tbody tr th {\n",
       "        vertical-align: top;\n",
       "    }\n",
       "\n",
       "    .dataframe thead th {\n",
       "        text-align: right;\n",
       "    }\n",
       "</style>\n",
       "<table border=\"1\" class=\"dataframe\">\n",
       "  <thead>\n",
       "    <tr style=\"text-align: right;\">\n",
       "      <th></th>\n",
       "      <th>median_Price_m2</th>\n",
       "    </tr>\n",
       "    <tr>\n",
       "      <th>DistrictId</th>\n",
       "      <th></th>\n",
       "    </tr>\n",
       "  </thead>\n",
       "  <tbody>\n",
       "    <tr>\n",
       "      <th>181</th>\n",
       "      <td>8700.768533</td>\n",
       "    </tr>\n",
       "    <tr>\n",
       "      <th>190</th>\n",
       "      <td>8645.171143</td>\n",
       "    </tr>\n",
       "    <tr>\n",
       "      <th>201</th>\n",
       "      <td>8397.602044</td>\n",
       "    </tr>\n",
       "    <tr>\n",
       "      <th>182</th>\n",
       "      <td>8008.603353</td>\n",
       "    </tr>\n",
       "    <tr>\n",
       "      <th>208</th>\n",
       "      <td>8005.605047</td>\n",
       "    </tr>\n",
       "  </tbody>\n",
       "</table>\n",
       "</div>"
      ],
      "text/plain": [
       "            median_Price_m2\n",
       "DistrictId                 \n",
       "181             8700.768533\n",
       "190             8645.171143\n",
       "201             8397.602044\n",
       "182             8008.603353\n",
       "208             8005.605047"
      ]
     },
     "execution_count": 2327,
     "metadata": {},
     "output_type": "execute_result"
    }
   ],
   "source": [
    "concat_df_cat = concat_df.groupby('DistrictId')['Price_m2'].median()\n",
    "concat_df_cat = pd.DataFrame(concat_df_cat)\n",
    "\n",
    "# переименовали заголовок\n",
    "concat_df_cat.rename(columns={'Price_m2': 'median_Price_m2'},\n",
    "             inplace=True)\n",
    "concat_df_cat.nlargest(5,'median_Price_m2')"
   ]
  },
  {
   "cell_type": "code",
   "execution_count": 2328,
   "metadata": {},
   "outputs": [
    {
     "data": {
      "text/html": [
       "<div>\n",
       "<style scoped>\n",
       "    .dataframe tbody tr th:only-of-type {\n",
       "        vertical-align: middle;\n",
       "    }\n",
       "\n",
       "    .dataframe tbody tr th {\n",
       "        vertical-align: top;\n",
       "    }\n",
       "\n",
       "    .dataframe thead th {\n",
       "        text-align: right;\n",
       "    }\n",
       "</style>\n",
       "<table border=\"1\" class=\"dataframe\">\n",
       "  <thead>\n",
       "    <tr style=\"text-align: right;\">\n",
       "      <th></th>\n",
       "      <th>DistrictId</th>\n",
       "      <th>Rooms</th>\n",
       "      <th>Square</th>\n",
       "      <th>LifeSquare</th>\n",
       "      <th>KitchenSquare</th>\n",
       "      <th>Floor</th>\n",
       "      <th>HouseFloor</th>\n",
       "      <th>HouseYear</th>\n",
       "      <th>Ecology_1</th>\n",
       "      <th>Ecology_2</th>\n",
       "      <th>...</th>\n",
       "      <th>Square_outlier3</th>\n",
       "      <th>LifeSquare_nan</th>\n",
       "      <th>LifeSquare_share</th>\n",
       "      <th>KitchenSquare_share</th>\n",
       "      <th>Floor_in the house</th>\n",
       "      <th>median_rooms_district</th>\n",
       "      <th>median_rooms_house_year</th>\n",
       "      <th>Room_square</th>\n",
       "      <th>Price_m2</th>\n",
       "      <th>median_Price_m2</th>\n",
       "    </tr>\n",
       "  </thead>\n",
       "  <tbody>\n",
       "    <tr>\n",
       "      <th>0</th>\n",
       "      <td>35</td>\n",
       "      <td>2.0</td>\n",
       "      <td>47.981561</td>\n",
       "      <td>29.442751</td>\n",
       "      <td>6.0</td>\n",
       "      <td>7.0</td>\n",
       "      <td>9.0</td>\n",
       "      <td>1969</td>\n",
       "      <td>0.08904</td>\n",
       "      <td>1</td>\n",
       "      <td>...</td>\n",
       "      <td>0</td>\n",
       "      <td>0</td>\n",
       "      <td>61.362636</td>\n",
       "      <td>12.504804</td>\n",
       "      <td>77.777778</td>\n",
       "      <td>2.0</td>\n",
       "      <td>2.0</td>\n",
       "      <td>14.721375</td>\n",
       "      <td>3854.958571</td>\n",
       "      <td>4358.274853</td>\n",
       "    </tr>\n",
       "    <tr>\n",
       "      <th>1</th>\n",
       "      <td>35</td>\n",
       "      <td>2.0</td>\n",
       "      <td>43.325817</td>\n",
       "      <td>22.487877</td>\n",
       "      <td>6.0</td>\n",
       "      <td>7.0</td>\n",
       "      <td>14.0</td>\n",
       "      <td>1969</td>\n",
       "      <td>0.08904</td>\n",
       "      <td>1</td>\n",
       "      <td>...</td>\n",
       "      <td>0</td>\n",
       "      <td>0</td>\n",
       "      <td>51.904104</td>\n",
       "      <td>13.848556</td>\n",
       "      <td>50.000000</td>\n",
       "      <td>2.0</td>\n",
       "      <td>2.0</td>\n",
       "      <td>11.243939</td>\n",
       "      <td>4481.748059</td>\n",
       "      <td>4358.274853</td>\n",
       "    </tr>\n",
       "    <tr>\n",
       "      <th>2</th>\n",
       "      <td>35</td>\n",
       "      <td>3.0</td>\n",
       "      <td>60.434211</td>\n",
       "      <td>42.717400</td>\n",
       "      <td>6.0</td>\n",
       "      <td>9.0</td>\n",
       "      <td>9.0</td>\n",
       "      <td>1969</td>\n",
       "      <td>0.08904</td>\n",
       "      <td>1</td>\n",
       "      <td>...</td>\n",
       "      <td>0</td>\n",
       "      <td>0</td>\n",
       "      <td>70.684136</td>\n",
       "      <td>9.928151</td>\n",
       "      <td>100.000000</td>\n",
       "      <td>2.0</td>\n",
       "      <td>2.0</td>\n",
       "      <td>14.239133</td>\n",
       "      <td>4880.709056</td>\n",
       "      <td>4358.274853</td>\n",
       "    </tr>\n",
       "  </tbody>\n",
       "</table>\n",
       "<p>3 rows × 38 columns</p>\n",
       "</div>"
      ],
      "text/plain": [
       "  DistrictId  Rooms     Square  LifeSquare  KitchenSquare  Floor  HouseFloor  \\\n",
       "0         35    2.0  47.981561   29.442751            6.0    7.0         9.0   \n",
       "1         35    2.0  43.325817   22.487877            6.0    7.0        14.0   \n",
       "2         35    3.0  60.434211   42.717400            6.0    9.0         9.0   \n",
       "\n",
       "   HouseYear  Ecology_1  Ecology_2  ...  Square_outlier3  LifeSquare_nan  \\\n",
       "0       1969    0.08904          1  ...                0               0   \n",
       "1       1969    0.08904          1  ...                0               0   \n",
       "2       1969    0.08904          1  ...                0               0   \n",
       "\n",
       "   LifeSquare_share  KitchenSquare_share  Floor_in the house  \\\n",
       "0         61.362636            12.504804           77.777778   \n",
       "1         51.904104            13.848556           50.000000   \n",
       "2         70.684136             9.928151          100.000000   \n",
       "\n",
       "   median_rooms_district  median_rooms_house_year  Room_square     Price_m2  \\\n",
       "0                    2.0                      2.0    14.721375  3854.958571   \n",
       "1                    2.0                      2.0    11.243939  4481.748059   \n",
       "2                    2.0                      2.0    14.239133  4880.709056   \n",
       "\n",
       "   median_Price_m2  \n",
       "0      4358.274853  \n",
       "1      4358.274853  \n",
       "2      4358.274853  \n",
       "\n",
       "[3 rows x 38 columns]"
      ]
     },
     "execution_count": 2328,
     "metadata": {},
     "output_type": "execute_result"
    }
   ],
   "source": [
    "concat_df = concat_df.merge(concat_df_cat, on='DistrictId')\n",
    "\n",
    "concat_df.head(3)"
   ]
  },
  {
   "cell_type": "code",
   "execution_count": 2329,
   "metadata": {},
   "outputs": [],
   "source": [
    "# df.to_csv(PREPARED_DATASET_DIPLOMA, index=False, encoding='utf-8')"
   ]
  },
  {
   "cell_type": "code",
   "execution_count": null,
   "metadata": {},
   "outputs": [],
   "source": []
  },
  {
   "cell_type": "code",
   "execution_count": 2330,
   "metadata": {},
   "outputs": [
    {
     "data": {
      "image/png": "[encoded data removed]",
      "text/plain": [
       "<Figure size 432x288 with 1 Axes>"
      ]
     },
     "metadata": {
      "needs_background": "light"
     },
     "output_type": "display_data"
    }
   ],
   "source": [
    "plt.scatter(df.Price,df.Rooms)\n",
    "plt.show()"
   ]
  },
  {
   "cell_type": "code",
   "execution_count": 2331,
   "metadata": {},
   "outputs": [],
   "source": [
    "# df[df.Rooms>7]"
   ]
  },
  {
   "cell_type": "code",
   "execution_count": 2332,
   "metadata": {},
   "outputs": [],
   "source": [
    "# df.Rooms.mean()"
   ]
  },
  {
   "cell_type": "code",
   "execution_count": 2333,
   "metadata": {},
   "outputs": [
    {
     "data": {
      "image/png": "[encoded data removed]",
      "text/plain": [
       "<Figure size 432x288 with 1 Axes>"
      ]
     },
     "metadata": {
      "needs_background": "light"
     },
     "output_type": "display_data"
    }
   ],
   "source": [
    "hist_info = plt.hist(df.Rooms, bins=20)\n",
    "\n",
    "plt.show()"
   ]
  },
  {
   "cell_type": "code",
   "execution_count": 2334,
   "metadata": {},
   "outputs": [],
   "source": [
    "# df_cat = df.groupby('DistrictId')['median_Price_m2'].median()\n",
    "# df_cat = pd.DataFrame(df_cat)\n",
    "# df_price = df_cat[\"median_Price_m2\"].sort_values()\n",
    "# # df_price.index = df_cat[\"DistrictId\"]\n",
    "\n",
    "# df_price.head()"
   ]
  },
  {
   "cell_type": "code",
   "execution_count": 2335,
   "metadata": {},
   "outputs": [],
   "source": [
    "# df_price.plot(kind=\"barh\")\n",
    "\n",
    "# plt.show()"
   ]
  },
  {
   "cell_type": "code",
   "execution_count": 2336,
   "metadata": {},
   "outputs": [],
   "source": [
    "# hist_info = plt.hist(df.median_Price_m2, bins=30)\n",
    "\n",
    "# plt.show()"
   ]
  },
  {
   "cell_type": "code",
   "execution_count": 2337,
   "metadata": {},
   "outputs": [],
   "source": [
    "# df_price = df[\"median_Price_m2\"]\n",
    "# df_price.index = df[\"DistrictId\"]\n",
    "\n",
    "# df_price.plot(kind=\"hist\",bins=20)\n",
    "\n",
    "# plt.show()"
   ]
  },
  {
   "cell_type": "code",
   "execution_count": 2338,
   "metadata": {},
   "outputs": [],
   "source": [
    "# from pylab import rcParams\n",
    "\n",
    "# rcParams[\"figure.figsize\"] = 12, 18\n",
    "\n",
    "# df_price.plot(kind=\"barh\")\n",
    "# plt.title(\"Стоимость м2 в разных районах\")\n",
    "\n",
    "# plt.show()"
   ]
  },
  {
   "cell_type": "code",
   "execution_count": 2339,
   "metadata": {},
   "outputs": [],
   "source": [
    "# rcParams[\"figure.figsize\"] = 10, 6 # ???\n",
    "\n",
    "# %config InlineBackend.figure_format = 'svg'\n",
    "# label_font = {\n",
    "#     \"fontsize\": 12,\n",
    "#     \"family\": \"serif\",\n",
    "#     \"color\":\"DarkBlue\"\n",
    "# }\n",
    "\n",
    "# plt.hist(df_price, color=\"lightgrey\", ec=\"white\")\n",
    "# plt.title(\"Распределение стоимости м2\")\n",
    "# plt.xlabel(\"Цена за квадратный метр\", fontdict=label_font)\n",
    "# # plt.ylabel(\"Функция f(x)\", fontdict=label_font)\n",
    "# # plt.axis([-5, 5, -8, 8])\n",
    "# plt.legend(labels=[\"М2\"])\n",
    "# # plt.legend(loc=\"lower right\")\n",
    "\n",
    "# plt.show()"
   ]
  },
  {
   "cell_type": "code",
   "execution_count": 2340,
   "metadata": {},
   "outputs": [],
   "source": [
    "# fig, ax = plt.subplots(nrows=2, ncols=2)\n",
    "# ax1, ax2, ax3, ax4 = ax.flatten()\n",
    "\n",
    "# fig.set_size_inches(8, 6)\n",
    "# fig.subplots_adjust(wspace=0.3, hspace=0.3)\n",
    "\n",
    "# ax1.scatter(df.Price, df.Rooms)\n",
    "# ax1.set_title('График Rooms/Price')\n",
    "\n",
    "# ax2.scatter(df.Price, df.Square)\n",
    "# ax2.set_title('График Square/Price')\n",
    "\n",
    "# ax3.scatter(df.Price, df.KitchenSquare)\n",
    "# ax3.set_title('График KitchenSquare/Price')\n",
    "\n",
    "# ax4.scatter(df.Price, df.Floor)\n",
    "# ax4.set_title('График Floor/Price')"
   ]
  },
  {
   "cell_type": "code",
   "execution_count": 2341,
   "metadata": {},
   "outputs": [],
   "source": [
    "# df[df.KitchenSquare>500]"
   ]
  },
  {
   "cell_type": "code",
   "execution_count": 2342,
   "metadata": {},
   "outputs": [],
   "source": [
    "# df[df.KitchenSquare>500]"
   ]
  },
  {
   "cell_type": "code",
   "execution_count": 2343,
   "metadata": {},
   "outputs": [],
   "source": [
    "# df[df.Rooms>8]"
   ]
  },
  {
   "cell_type": "code",
   "execution_count": 2344,
   "metadata": {},
   "outputs": [],
   "source": [
    "# df[df.Rooms>8]"
   ]
  },
  {
   "cell_type": "code",
   "execution_count": 2345,
   "metadata": {},
   "outputs": [],
   "source": [
    "# fig, ax = plt.subplots(nrows=2, ncols=2)\n",
    "# ax1, ax2, ax3, ax4 = ax.flatten()\n",
    "\n",
    "# fig.set_size_inches(8, 6)\n",
    "# fig.subplots_adjust(wspace=0.3, hspace=0.3)\n",
    "\n",
    "# ax1.scatter(df.Price, df.Rooms)\n",
    "# ax1.set_title('График Rooms/Price')\n",
    "\n",
    "# ax2.scatter(df.Price, df.Square)\n",
    "# ax2.set_title('График Square/Price')\n",
    "\n",
    "# ax3.scatter(df.Price, df.KitchenSquare)\n",
    "# ax3.set_title('График KitchenSquare/Price')\n",
    "\n",
    "# ax4.scatter(df.Price, df.Floor)\n",
    "# ax4.set_title('График Floor/Price')"
   ]
  },
  {
   "cell_type": "code",
   "execution_count": 2346,
   "metadata": {},
   "outputs": [],
   "source": [
    "# df[df.KitchenSquare>80]"
   ]
  },
  {
   "cell_type": "code",
   "execution_count": null,
   "metadata": {},
   "outputs": [],
   "source": []
  },
  {
   "cell_type": "code",
   "execution_count": 2347,
   "metadata": {},
   "outputs": [
    {
     "data": {
      "text/html": [
       "<div>\n",
       "<style scoped>\n",
       "    .dataframe tbody tr th:only-of-type {\n",
       "        vertical-align: middle;\n",
       "    }\n",
       "\n",
       "    .dataframe tbody tr th {\n",
       "        vertical-align: top;\n",
       "    }\n",
       "\n",
       "    .dataframe thead th {\n",
       "        text-align: right;\n",
       "    }\n",
       "</style>\n",
       "<table border=\"1\" class=\"dataframe\">\n",
       "  <thead>\n",
       "    <tr style=\"text-align: right;\">\n",
       "      <th></th>\n",
       "      <th>DistrictId</th>\n",
       "      <th>Rooms</th>\n",
       "      <th>Square</th>\n",
       "      <th>LifeSquare</th>\n",
       "      <th>KitchenSquare</th>\n",
       "      <th>Floor</th>\n",
       "      <th>HouseFloor</th>\n",
       "      <th>HouseYear</th>\n",
       "      <th>Ecology_1</th>\n",
       "      <th>Ecology_2</th>\n",
       "      <th>...</th>\n",
       "      <th>Square_outlier3</th>\n",
       "      <th>LifeSquare_nan</th>\n",
       "      <th>LifeSquare_share</th>\n",
       "      <th>KitchenSquare_share</th>\n",
       "      <th>Floor_in the house</th>\n",
       "      <th>median_rooms_district</th>\n",
       "      <th>median_rooms_house_year</th>\n",
       "      <th>Room_square</th>\n",
       "      <th>Price_m2</th>\n",
       "      <th>median_Price_m2</th>\n",
       "    </tr>\n",
       "  </thead>\n",
       "  <tbody>\n",
       "    <tr>\n",
       "      <th>0</th>\n",
       "      <td>35</td>\n",
       "      <td>2.0</td>\n",
       "      <td>47.981561</td>\n",
       "      <td>29.442751</td>\n",
       "      <td>6.0</td>\n",
       "      <td>7.0</td>\n",
       "      <td>9.0</td>\n",
       "      <td>1969</td>\n",
       "      <td>0.08904</td>\n",
       "      <td>1</td>\n",
       "      <td>...</td>\n",
       "      <td>0</td>\n",
       "      <td>0</td>\n",
       "      <td>61.362636</td>\n",
       "      <td>12.504804</td>\n",
       "      <td>77.777778</td>\n",
       "      <td>2.0</td>\n",
       "      <td>2.0</td>\n",
       "      <td>14.721375</td>\n",
       "      <td>3854.958571</td>\n",
       "      <td>4358.274853</td>\n",
       "    </tr>\n",
       "    <tr>\n",
       "      <th>1</th>\n",
       "      <td>35</td>\n",
       "      <td>2.0</td>\n",
       "      <td>43.325817</td>\n",
       "      <td>22.487877</td>\n",
       "      <td>6.0</td>\n",
       "      <td>7.0</td>\n",
       "      <td>14.0</td>\n",
       "      <td>1969</td>\n",
       "      <td>0.08904</td>\n",
       "      <td>1</td>\n",
       "      <td>...</td>\n",
       "      <td>0</td>\n",
       "      <td>0</td>\n",
       "      <td>51.904104</td>\n",
       "      <td>13.848556</td>\n",
       "      <td>50.000000</td>\n",
       "      <td>2.0</td>\n",
       "      <td>2.0</td>\n",
       "      <td>11.243939</td>\n",
       "      <td>4481.748059</td>\n",
       "      <td>4358.274853</td>\n",
       "    </tr>\n",
       "    <tr>\n",
       "      <th>2</th>\n",
       "      <td>35</td>\n",
       "      <td>3.0</td>\n",
       "      <td>60.434211</td>\n",
       "      <td>42.717400</td>\n",
       "      <td>6.0</td>\n",
       "      <td>9.0</td>\n",
       "      <td>9.0</td>\n",
       "      <td>1969</td>\n",
       "      <td>0.08904</td>\n",
       "      <td>1</td>\n",
       "      <td>...</td>\n",
       "      <td>0</td>\n",
       "      <td>0</td>\n",
       "      <td>70.684136</td>\n",
       "      <td>9.928151</td>\n",
       "      <td>100.000000</td>\n",
       "      <td>2.0</td>\n",
       "      <td>2.0</td>\n",
       "      <td>14.239133</td>\n",
       "      <td>4880.709056</td>\n",
       "      <td>4358.274853</td>\n",
       "    </tr>\n",
       "  </tbody>\n",
       "</table>\n",
       "<p>3 rows × 38 columns</p>\n",
       "</div>"
      ],
      "text/plain": [
       "  DistrictId  Rooms     Square  LifeSquare  KitchenSquare  Floor  HouseFloor  \\\n",
       "0         35    2.0  47.981561   29.442751            6.0    7.0         9.0   \n",
       "1         35    2.0  43.325817   22.487877            6.0    7.0        14.0   \n",
       "2         35    3.0  60.434211   42.717400            6.0    9.0         9.0   \n",
       "\n",
       "   HouseYear  Ecology_1  Ecology_2  ...  Square_outlier3  LifeSquare_nan  \\\n",
       "0       1969    0.08904          1  ...                0               0   \n",
       "1       1969    0.08904          1  ...                0               0   \n",
       "2       1969    0.08904          1  ...                0               0   \n",
       "\n",
       "   LifeSquare_share  KitchenSquare_share  Floor_in the house  \\\n",
       "0         61.362636            12.504804           77.777778   \n",
       "1         51.904104            13.848556           50.000000   \n",
       "2         70.684136             9.928151          100.000000   \n",
       "\n",
       "   median_rooms_district  median_rooms_house_year  Room_square     Price_m2  \\\n",
       "0                    2.0                      2.0    14.721375  3854.958571   \n",
       "1                    2.0                      2.0    11.243939  4481.748059   \n",
       "2                    2.0                      2.0    14.239133  4880.709056   \n",
       "\n",
       "   median_Price_m2  \n",
       "0      4358.274853  \n",
       "1      4358.274853  \n",
       "2      4358.274853  \n",
       "\n",
       "[3 rows x 38 columns]"
      ]
     },
     "execution_count": 2347,
     "metadata": {},
     "output_type": "execute_result"
    }
   ],
   "source": [
    "concat_df.head(3)"
   ]
  },
  {
   "cell_type": "code",
   "execution_count": 2348,
   "metadata": {
    "scrolled": false
   },
   "outputs": [
    {
     "name": "stderr",
     "output_type": "stream",
     "text": [
      "C:\\Users\\lobapid3\\Anaconda3\\lib\\site-packages\\ipykernel_launcher.py:2: SettingWithCopyWarning: \n",
      "A value is trying to be set on a copy of a slice from a DataFrame\n",
      "\n",
      "See the caveats in the documentation: https://pandas.pydata.org/pandas-docs/stable/user_guide/indexing.html#returning-a-view-versus-a-copy\n",
      "  \n"
     ]
    }
   ],
   "source": [
    "concat_df_copy = concat_df\n",
    "concat_df.KitchenSquare[concat_df.Square<concat_df.KitchenSquare]=concat_df.KitchenSquare.median()"
   ]
  },
  {
   "cell_type": "code",
   "execution_count": 2349,
   "metadata": {
    "scrolled": true
   },
   "outputs": [
    {
     "data": {
      "text/html": [
       "<div>\n",
       "<style scoped>\n",
       "    .dataframe tbody tr th:only-of-type {\n",
       "        vertical-align: middle;\n",
       "    }\n",
       "\n",
       "    .dataframe tbody tr th {\n",
       "        vertical-align: top;\n",
       "    }\n",
       "\n",
       "    .dataframe thead th {\n",
       "        text-align: right;\n",
       "    }\n",
       "</style>\n",
       "<table border=\"1\" class=\"dataframe\">\n",
       "  <thead>\n",
       "    <tr style=\"text-align: right;\">\n",
       "      <th></th>\n",
       "      <th>DistrictId</th>\n",
       "      <th>Rooms</th>\n",
       "      <th>Square</th>\n",
       "      <th>LifeSquare</th>\n",
       "      <th>KitchenSquare</th>\n",
       "      <th>Floor</th>\n",
       "      <th>HouseFloor</th>\n",
       "      <th>HouseYear</th>\n",
       "      <th>Ecology_1</th>\n",
       "      <th>Ecology_2</th>\n",
       "      <th>...</th>\n",
       "      <th>Square_outlier3</th>\n",
       "      <th>LifeSquare_nan</th>\n",
       "      <th>LifeSquare_share</th>\n",
       "      <th>KitchenSquare_share</th>\n",
       "      <th>Floor_in the house</th>\n",
       "      <th>median_rooms_district</th>\n",
       "      <th>median_rooms_house_year</th>\n",
       "      <th>Room_square</th>\n",
       "      <th>Price_m2</th>\n",
       "      <th>median_Price_m2</th>\n",
       "    </tr>\n",
       "  </thead>\n",
       "  <tbody>\n",
       "    <tr>\n",
       "      <th>0</th>\n",
       "      <td>35</td>\n",
       "      <td>2.0</td>\n",
       "      <td>47.981561</td>\n",
       "      <td>29.442751</td>\n",
       "      <td>6.0</td>\n",
       "      <td>7.0</td>\n",
       "      <td>9.0</td>\n",
       "      <td>1969</td>\n",
       "      <td>0.08904</td>\n",
       "      <td>1</td>\n",
       "      <td>...</td>\n",
       "      <td>0</td>\n",
       "      <td>0</td>\n",
       "      <td>61.362636</td>\n",
       "      <td>12.504804</td>\n",
       "      <td>77.777778</td>\n",
       "      <td>2.0</td>\n",
       "      <td>2.0</td>\n",
       "      <td>14.721375</td>\n",
       "      <td>3854.958571</td>\n",
       "      <td>4358.274853</td>\n",
       "    </tr>\n",
       "    <tr>\n",
       "      <th>1</th>\n",
       "      <td>35</td>\n",
       "      <td>2.0</td>\n",
       "      <td>43.325817</td>\n",
       "      <td>22.487877</td>\n",
       "      <td>6.0</td>\n",
       "      <td>7.0</td>\n",
       "      <td>14.0</td>\n",
       "      <td>1969</td>\n",
       "      <td>0.08904</td>\n",
       "      <td>1</td>\n",
       "      <td>...</td>\n",
       "      <td>0</td>\n",
       "      <td>0</td>\n",
       "      <td>51.904104</td>\n",
       "      <td>13.848556</td>\n",
       "      <td>50.000000</td>\n",
       "      <td>2.0</td>\n",
       "      <td>2.0</td>\n",
       "      <td>11.243939</td>\n",
       "      <td>4481.748059</td>\n",
       "      <td>4358.274853</td>\n",
       "    </tr>\n",
       "    <tr>\n",
       "      <th>2</th>\n",
       "      <td>35</td>\n",
       "      <td>3.0</td>\n",
       "      <td>60.434211</td>\n",
       "      <td>42.717400</td>\n",
       "      <td>6.0</td>\n",
       "      <td>9.0</td>\n",
       "      <td>9.0</td>\n",
       "      <td>1969</td>\n",
       "      <td>0.08904</td>\n",
       "      <td>1</td>\n",
       "      <td>...</td>\n",
       "      <td>0</td>\n",
       "      <td>0</td>\n",
       "      <td>70.684136</td>\n",
       "      <td>9.928151</td>\n",
       "      <td>100.000000</td>\n",
       "      <td>2.0</td>\n",
       "      <td>2.0</td>\n",
       "      <td>14.239133</td>\n",
       "      <td>4880.709056</td>\n",
       "      <td>4358.274853</td>\n",
       "    </tr>\n",
       "  </tbody>\n",
       "</table>\n",
       "<p>3 rows × 38 columns</p>\n",
       "</div>"
      ],
      "text/plain": [
       "  DistrictId  Rooms     Square  LifeSquare  KitchenSquare  Floor  HouseFloor  \\\n",
       "0         35    2.0  47.981561   29.442751            6.0    7.0         9.0   \n",
       "1         35    2.0  43.325817   22.487877            6.0    7.0        14.0   \n",
       "2         35    3.0  60.434211   42.717400            6.0    9.0         9.0   \n",
       "\n",
       "   HouseYear  Ecology_1  Ecology_2  ...  Square_outlier3  LifeSquare_nan  \\\n",
       "0       1969    0.08904          1  ...                0               0   \n",
       "1       1969    0.08904          1  ...                0               0   \n",
       "2       1969    0.08904          1  ...                0               0   \n",
       "\n",
       "   LifeSquare_share  KitchenSquare_share  Floor_in the house  \\\n",
       "0         61.362636            12.504804           77.777778   \n",
       "1         51.904104            13.848556           50.000000   \n",
       "2         70.684136             9.928151          100.000000   \n",
       "\n",
       "   median_rooms_district  median_rooms_house_year  Room_square     Price_m2  \\\n",
       "0                    2.0                      2.0    14.721375  3854.958571   \n",
       "1                    2.0                      2.0    11.243939  4481.748059   \n",
       "2                    2.0                      2.0    14.239133  4880.709056   \n",
       "\n",
       "   median_Price_m2  \n",
       "0      4358.274853  \n",
       "1      4358.274853  \n",
       "2      4358.274853  \n",
       "\n",
       "[3 rows x 38 columns]"
      ]
     },
     "execution_count": 2349,
     "metadata": {},
     "output_type": "execute_result"
    }
   ],
   "source": [
    "concat_df_copy.head(3)"
   ]
  },
  {
   "cell_type": "code",
   "execution_count": 2,
   "metadata": {},
   "outputs": [],
   "source": [
    "# concat_df_copy.info()"
   ]
  },
  {
   "cell_type": "code",
   "execution_count": 2351,
   "metadata": {},
   "outputs": [],
   "source": [
    "concat_df_copy = concat_df\n",
    "concat_df.loc[concat_df.Rooms>8,'Rooms'] = concat_df.Square/concat_df.Room_square.median()\n"
   ]
  },
  {
   "cell_type": "code",
   "execution_count": 3,
   "metadata": {},
   "outputs": [],
   "source": [
    "# concat_df_copy.info()"
   ]
  },
  {
   "cell_type": "code",
   "execution_count": 2353,
   "metadata": {},
   "outputs": [],
   "source": [
    "concat_df['floor_cat'] = np.nan\n",
    "\n",
    "concat_df.loc[concat_df['Floor'] < 3, 'floor_cat'] = 1  \n",
    "concat_df.loc[(concat_df['Floor'] >= 3) & (concat_df['Floor'] <= 5), 'floor_cat'] = 2\n",
    "concat_df.loc[(concat_df['Floor'] > 5) & (concat_df['Floor'] <= 9), 'floor_cat'] = 3\n",
    "concat_df.loc[(concat_df['Floor'] > 9) & (concat_df['Floor'] <= 15), 'floor_cat'] = 4\n",
    "concat_df.loc[concat_df['Floor'] > 15, 'floor_cat'] = 5"
   ]
  },
  {
   "cell_type": "code",
   "execution_count": 4,
   "metadata": {},
   "outputs": [],
   "source": [
    "# concat_df_copy.info()"
   ]
  },
  {
   "cell_type": "code",
   "execution_count": 2355,
   "metadata": {},
   "outputs": [],
   "source": [
    "concat_df['year_cat'] = np.nan\n",
    "        \n",
    "concat_df.loc[concat_df['HouseYear'] < 1941, 'year_cat'] = 1\n",
    "concat_df.loc[(concat_df['HouseYear'] >= 1941) & (concat_df['HouseYear'] <= 1945), 'year_cat'] = 2\n",
    "concat_df.loc[(concat_df['HouseYear'] > 1945) & (concat_df['HouseYear'] <= 1980), 'year_cat'] = 3\n",
    "concat_df.loc[(concat_df['HouseYear'] > 1980) & (concat_df['HouseYear'] <= 2000), 'year_cat'] = 4\n",
    "concat_df.loc[(concat_df['HouseYear'] > 2000) & (concat_df['HouseYear'] <= 2010), 'year_cat'] = 5\n",
    "concat_df.loc[(concat_df['HouseYear'] > 2010), 'year_cat'] = 6"
   ]
  },
  {
   "cell_type": "code",
   "execution_count": 5,
   "metadata": {},
   "outputs": [],
   "source": [
    "# concat_df_copy.info()"
   ]
  },
  {
   "cell_type": "code",
   "execution_count": 2357,
   "metadata": {},
   "outputs": [],
   "source": [
    "# DistrictID\n",
    "district = concat_df['DistrictId'].value_counts()\n",
    "district = district[district > 50]  ## Если вы этого не сделаете, то на Leaderboard-е улетите в самый низ (>100 места, R2 ~ 0.65),\n",
    "                                    ## Хотя на локальной валидации скор вырастет\n",
    "\n",
    "# отфильтровали строки только строки с дистриктами, где более 50 наблюдений\n",
    "\n"
   ]
  },
  {
   "cell_type": "code",
   "execution_count": 6,
   "metadata": {},
   "outputs": [],
   "source": [
    "# concat_df.info()"
   ]
  },
  {
   "cell_type": "code",
   "execution_count": 2359,
   "metadata": {},
   "outputs": [],
   "source": [
    "DistrictId_counts = dict(district)\n",
    "# создали словарь из район-количество наблюдений\n",
    "\n",
    "concat_df['DistrictId_popular'] = concat_df['DistrictId'].copy()\n",
    "# зачем-то копируем столбик Дистрик в столбик ДистриктПопюлар"
   ]
  },
  {
   "cell_type": "code",
   "execution_count": 7,
   "metadata": {},
   "outputs": [],
   "source": [
    "# concat_df.info()"
   ]
  },
  {
   "cell_type": "code",
   "execution_count": 2361,
   "metadata": {},
   "outputs": [],
   "source": [
    "\n",
    "# concat_df.loc[concat_df['DistrictId_popular'].isin(district.keys().tolist())] = np.nan\n",
    "# # если номер дистрикта есть в словаре  самых популярных дистриктов, то заполняем столбец Nan\n",
    "# # Метод ndarray.tolist() преобразует массив NumPy в список Python.\n",
    "# \n",
    "concat_df.loc[concat_df['DistrictId_popular'].isin(district.keys().tolist()), 'DistrictId_popular'] = np.nan\n",
    "# если номер дистрикта есть в словаре  самых популярных дистриктов, то заполняем столбец Nan\n",
    "# Метод ndarray.tolist() преобразует массив NumPy в список Python."
   ]
  },
  {
   "cell_type": "code",
   "execution_count": 8,
   "metadata": {},
   "outputs": [],
   "source": [
    "# concat_df['DistrictId_popular'].describe()"
   ]
  },
  {
   "cell_type": "code",
   "execution_count": 9,
   "metadata": {},
   "outputs": [],
   "source": [
    "# concat_df.info()"
   ]
  },
  {
   "cell_type": "code",
   "execution_count": 10,
   "metadata": {},
   "outputs": [],
   "source": [
    "# dftest = pd.DataFrame([1,2,3,4,5])\n",
    "# dicttest = {1:'d',2:'b',7:'y'}\n",
    "# dftest[dftest.isin(dicttest.keys())] = np.nan\n",
    "# dftest"
   ]
  },
  {
   "cell_type": "code",
   "execution_count": 2365,
   "metadata": {},
   "outputs": [
    {
     "name": "stdout",
     "output_type": "stream",
     "text": [
      "<class 'pandas.core.frame.DataFrame'>\n",
      "Int64Index: 15000 entries, 0 to 14999\n",
      "Data columns (total 42 columns):\n",
      " #   Column                   Non-Null Count  Dtype  \n",
      "---  ------                   --------------  -----  \n",
      " 0   DistrictId               15000 non-null  object \n",
      " 1   Rooms                    15000 non-null  float64\n",
      " 2   Square                   15000 non-null  float64\n",
      " 3   LifeSquare               15000 non-null  float64\n",
      " 4   KitchenSquare            15000 non-null  float64\n",
      " 5   Floor                    15000 non-null  float64\n",
      " 6   HouseFloor               15000 non-null  float64\n",
      " 7   HouseYear                15000 non-null  int64  \n",
      " 8   Ecology_1                15000 non-null  float64\n",
      " 9   Ecology_2                15000 non-null  int64  \n",
      " 10  Ecology_3                15000 non-null  int64  \n",
      " 11  Social_1                 15000 non-null  int64  \n",
      " 12  Social_2                 15000 non-null  int64  \n",
      " 13  Social_3                 15000 non-null  int64  \n",
      " 14  Helthcare_2              15000 non-null  int64  \n",
      " 15  Shops_1                  15000 non-null  int64  \n",
      " 16  Shops_2                  15000 non-null  int64  \n",
      " 17  Price                    10000 non-null  float64\n",
      " 18  label                    15000 non-null  object \n",
      " 19  Rooms_outlier            15000 non-null  int64  \n",
      " 20  KitchenSquare_outlier    15000 non-null  int64  \n",
      " 21  KitchenSquare_outlier2   15000 non-null  int64  \n",
      " 22  KitchenSquare_outlier3   15000 non-null  int64  \n",
      " 23  HouseFloor_outlier       15000 non-null  int64  \n",
      " 24  HouseFloor_outlier2      15000 non-null  int64  \n",
      " 25  HouseYear_outlier        15000 non-null  int64  \n",
      " 26  Square_outlier           15000 non-null  int64  \n",
      " 27  Square_outlier2          15000 non-null  int64  \n",
      " 28  Square_outlier3          15000 non-null  int64  \n",
      " 29  LifeSquare_nan           15000 non-null  int32  \n",
      " 30  LifeSquare_share         15000 non-null  float64\n",
      " 31  KitchenSquare_share      15000 non-null  float64\n",
      " 32  Floor_in the house       15000 non-null  float64\n",
      " 33  median_rooms_district    15000 non-null  float64\n",
      " 34  median_rooms_house_year  15000 non-null  float64\n",
      " 35  Room_square              15000 non-null  float64\n",
      " 36  Price_m2                 10000 non-null  float64\n",
      " 37  median_Price_m2          14992 non-null  float64\n",
      " 38  floor_cat                15000 non-null  float64\n",
      " 39  year_cat                 15000 non-null  float64\n",
      " 40  DistrictId_popular       2406 non-null   object \n",
      " 41  MedPriceByDistrict       2356 non-null   float64\n",
      "dtypes: float64(19), int32(1), int64(19), object(3)\n",
      "memory usage: 4.9+ MB\n"
     ]
    }
   ],
   "source": [
    "med_price_by_district = concat_df.groupby(['DistrictId_popular', 'Rooms'], as_index=False).agg({'Price':'median'}).\\\n",
    "                                            rename(columns={'Price':'MedPriceByDistrict',\n",
    "                                                           'DistrictId_popular': 'DistrictId'})\n",
    "\n",
    "# concat_df_cat = concat_df.groupby('DistrictId')['Price_m2'].median()\n",
    "med_price_by_district = pd.DataFrame(med_price_by_district)\n",
    "\n",
    "concat_df = concat_df.merge(med_price_by_district, on=['DistrictId', 'Rooms'],how='left')\n",
    "\n",
    "# # переименовали заголовок\n",
    "# concat_df_cat.rename(columns={'Price_m2': 'median_Price_m2'},\n",
    "#              inplace=True)\n",
    "# concat_df_cat.nlargest(5,'median_Price_m2')\n",
    "# concat_df = concat_df.merge(concat_df_cat, on='DistrictId')\n",
    "\n",
    "concat_df.info()"
   ]
  },
  {
   "cell_type": "code",
   "execution_count": 2366,
   "metadata": {},
   "outputs": [
    {
     "data": {
      "text/html": [
       "<div>\n",
       "<style scoped>\n",
       "    .dataframe tbody tr th:only-of-type {\n",
       "        vertical-align: middle;\n",
       "    }\n",
       "\n",
       "    .dataframe tbody tr th {\n",
       "        vertical-align: top;\n",
       "    }\n",
       "\n",
       "    .dataframe thead th {\n",
       "        text-align: right;\n",
       "    }\n",
       "</style>\n",
       "<table border=\"1\" class=\"dataframe\">\n",
       "  <thead>\n",
       "    <tr style=\"text-align: right;\">\n",
       "      <th></th>\n",
       "      <th>DistrictId</th>\n",
       "      <th>Rooms</th>\n",
       "      <th>Square</th>\n",
       "      <th>LifeSquare</th>\n",
       "      <th>KitchenSquare</th>\n",
       "      <th>Floor</th>\n",
       "      <th>HouseFloor</th>\n",
       "      <th>HouseYear</th>\n",
       "      <th>Ecology_1</th>\n",
       "      <th>Ecology_2</th>\n",
       "      <th>...</th>\n",
       "      <th>median_rooms_house_year</th>\n",
       "      <th>Room_square</th>\n",
       "      <th>Price_m2</th>\n",
       "      <th>median_Price_m2</th>\n",
       "      <th>floor_cat</th>\n",
       "      <th>year_cat</th>\n",
       "      <th>DistrictId_popular</th>\n",
       "      <th>MedPriceByDistrict</th>\n",
       "      <th>DistrictId_count</th>\n",
       "      <th>new_district</th>\n",
       "    </tr>\n",
       "  </thead>\n",
       "  <tbody>\n",
       "    <tr>\n",
       "      <th>0</th>\n",
       "      <td>35</td>\n",
       "      <td>2.0</td>\n",
       "      <td>47.981561</td>\n",
       "      <td>29.442751</td>\n",
       "      <td>6.0</td>\n",
       "      <td>7.0</td>\n",
       "      <td>9.0</td>\n",
       "      <td>1969</td>\n",
       "      <td>0.08904</td>\n",
       "      <td>1</td>\n",
       "      <td>...</td>\n",
       "      <td>2.0</td>\n",
       "      <td>14.721375</td>\n",
       "      <td>3854.958571</td>\n",
       "      <td>4358.274853</td>\n",
       "      <td>3.0</td>\n",
       "      <td>3.0</td>\n",
       "      <td>35</td>\n",
       "      <td>207786.135836</td>\n",
       "      <td>5.0</td>\n",
       "      <td>1</td>\n",
       "    </tr>\n",
       "    <tr>\n",
       "      <th>1</th>\n",
       "      <td>35</td>\n",
       "      <td>2.0</td>\n",
       "      <td>43.325817</td>\n",
       "      <td>22.487877</td>\n",
       "      <td>6.0</td>\n",
       "      <td>7.0</td>\n",
       "      <td>14.0</td>\n",
       "      <td>1969</td>\n",
       "      <td>0.08904</td>\n",
       "      <td>1</td>\n",
       "      <td>...</td>\n",
       "      <td>2.0</td>\n",
       "      <td>11.243939</td>\n",
       "      <td>4481.748059</td>\n",
       "      <td>4358.274853</td>\n",
       "      <td>3.0</td>\n",
       "      <td>3.0</td>\n",
       "      <td>35</td>\n",
       "      <td>207786.135836</td>\n",
       "      <td>5.0</td>\n",
       "      <td>1</td>\n",
       "    </tr>\n",
       "    <tr>\n",
       "      <th>2</th>\n",
       "      <td>35</td>\n",
       "      <td>3.0</td>\n",
       "      <td>60.434211</td>\n",
       "      <td>42.717400</td>\n",
       "      <td>6.0</td>\n",
       "      <td>9.0</td>\n",
       "      <td>9.0</td>\n",
       "      <td>1969</td>\n",
       "      <td>0.08904</td>\n",
       "      <td>1</td>\n",
       "      <td>...</td>\n",
       "      <td>2.0</td>\n",
       "      <td>14.239133</td>\n",
       "      <td>4880.709056</td>\n",
       "      <td>4358.274853</td>\n",
       "      <td>3.0</td>\n",
       "      <td>3.0</td>\n",
       "      <td>35</td>\n",
       "      <td>242403.715876</td>\n",
       "      <td>5.0</td>\n",
       "      <td>1</td>\n",
       "    </tr>\n",
       "  </tbody>\n",
       "</table>\n",
       "<p>3 rows × 44 columns</p>\n",
       "</div>"
      ],
      "text/plain": [
       "  DistrictId  Rooms     Square  LifeSquare  KitchenSquare  Floor  HouseFloor  \\\n",
       "0         35    2.0  47.981561   29.442751            6.0    7.0         9.0   \n",
       "1         35    2.0  43.325817   22.487877            6.0    7.0        14.0   \n",
       "2         35    3.0  60.434211   42.717400            6.0    9.0         9.0   \n",
       "\n",
       "   HouseYear  Ecology_1  Ecology_2  ...  median_rooms_house_year  Room_square  \\\n",
       "0       1969    0.08904          1  ...                      2.0    14.721375   \n",
       "1       1969    0.08904          1  ...                      2.0    11.243939   \n",
       "2       1969    0.08904          1  ...                      2.0    14.239133   \n",
       "\n",
       "      Price_m2  median_Price_m2  floor_cat  year_cat  DistrictId_popular  \\\n",
       "0  3854.958571      4358.274853        3.0       3.0                  35   \n",
       "1  4481.748059      4358.274853        3.0       3.0                  35   \n",
       "2  4880.709056      4358.274853        3.0       3.0                  35   \n",
       "\n",
       "   MedPriceByDistrict DistrictId_count  new_district  \n",
       "0       207786.135836              5.0             1  \n",
       "1       207786.135836              5.0             1  \n",
       "2       242403.715876              5.0             1  \n",
       "\n",
       "[3 rows x 44 columns]"
      ]
     },
     "execution_count": 2366,
     "metadata": {},
     "output_type": "execute_result"
    }
   ],
   "source": [
    "concat_df['DistrictId_count'] = concat_df['DistrictId'].map(DistrictId_counts)  # DistrictId_counts = {'id': value}\n",
    "#  MAP Used for substituting each value in a Series with another value \n",
    "# values in Series that are not in the dictionary (as keys) are converted to NaN.\n",
    "# в этом столбике указано количество наблюдений в этом дистрикте из словаря \n",
    "\n",
    "concat_df['new_district'] = 0\n",
    "concat_df.loc[concat_df['DistrictId_count'].isna(), 'new_district'] = 1\n",
    "# ставим 1 везде, где данные Nan\n",
    "\n",
    "concat_df['DistrictId_count'].fillna(5, inplace=True)\n",
    "# везде,где Nan заполнить количеством 5? Медиана-89. Средняя - 139\n",
    "concat_df.head(3)"
   ]
  },
  {
   "cell_type": "code",
   "execution_count": 2367,
   "metadata": {},
   "outputs": [
    {
     "data": {
      "text/html": [
       "<div>\n",
       "<style scoped>\n",
       "    .dataframe tbody tr th:only-of-type {\n",
       "        vertical-align: middle;\n",
       "    }\n",
       "\n",
       "    .dataframe tbody tr th {\n",
       "        vertical-align: top;\n",
       "    }\n",
       "\n",
       "    .dataframe thead th {\n",
       "        text-align: right;\n",
       "    }\n",
       "</style>\n",
       "<table border=\"1\" class=\"dataframe\">\n",
       "  <thead>\n",
       "    <tr style=\"text-align: right;\">\n",
       "      <th></th>\n",
       "      <th>DistrictId</th>\n",
       "      <th>Rooms</th>\n",
       "      <th>Square</th>\n",
       "      <th>LifeSquare</th>\n",
       "      <th>KitchenSquare</th>\n",
       "      <th>Floor</th>\n",
       "      <th>HouseFloor</th>\n",
       "      <th>HouseYear</th>\n",
       "      <th>Ecology_1</th>\n",
       "      <th>Ecology_2</th>\n",
       "      <th>...</th>\n",
       "      <th>Room_square</th>\n",
       "      <th>Price_m2</th>\n",
       "      <th>median_Price_m2</th>\n",
       "      <th>floor_cat</th>\n",
       "      <th>year_cat</th>\n",
       "      <th>DistrictId_popular</th>\n",
       "      <th>MedPriceByDistrict</th>\n",
       "      <th>DistrictId_count</th>\n",
       "      <th>new_district</th>\n",
       "      <th>MedPriceByFloorYear</th>\n",
       "    </tr>\n",
       "  </thead>\n",
       "  <tbody>\n",
       "    <tr>\n",
       "      <th>0</th>\n",
       "      <td>35</td>\n",
       "      <td>2.0</td>\n",
       "      <td>47.981561</td>\n",
       "      <td>29.442751</td>\n",
       "      <td>6.0</td>\n",
       "      <td>7.0</td>\n",
       "      <td>9.0</td>\n",
       "      <td>1969</td>\n",
       "      <td>0.08904</td>\n",
       "      <td>1</td>\n",
       "      <td>...</td>\n",
       "      <td>14.721375</td>\n",
       "      <td>3854.958571</td>\n",
       "      <td>4358.274853</td>\n",
       "      <td>3.0</td>\n",
       "      <td>3.0</td>\n",
       "      <td>35</td>\n",
       "      <td>207786.135836</td>\n",
       "      <td>5.0</td>\n",
       "      <td>1</td>\n",
       "      <td>193455.822517</td>\n",
       "    </tr>\n",
       "    <tr>\n",
       "      <th>1</th>\n",
       "      <td>35</td>\n",
       "      <td>2.0</td>\n",
       "      <td>43.325817</td>\n",
       "      <td>22.487877</td>\n",
       "      <td>6.0</td>\n",
       "      <td>7.0</td>\n",
       "      <td>14.0</td>\n",
       "      <td>1969</td>\n",
       "      <td>0.08904</td>\n",
       "      <td>1</td>\n",
       "      <td>...</td>\n",
       "      <td>11.243939</td>\n",
       "      <td>4481.748059</td>\n",
       "      <td>4358.274853</td>\n",
       "      <td>3.0</td>\n",
       "      <td>3.0</td>\n",
       "      <td>35</td>\n",
       "      <td>207786.135836</td>\n",
       "      <td>5.0</td>\n",
       "      <td>1</td>\n",
       "      <td>193455.822517</td>\n",
       "    </tr>\n",
       "    <tr>\n",
       "      <th>2</th>\n",
       "      <td>35</td>\n",
       "      <td>3.0</td>\n",
       "      <td>60.434211</td>\n",
       "      <td>42.717400</td>\n",
       "      <td>6.0</td>\n",
       "      <td>9.0</td>\n",
       "      <td>9.0</td>\n",
       "      <td>1969</td>\n",
       "      <td>0.08904</td>\n",
       "      <td>1</td>\n",
       "      <td>...</td>\n",
       "      <td>14.239133</td>\n",
       "      <td>4880.709056</td>\n",
       "      <td>4358.274853</td>\n",
       "      <td>3.0</td>\n",
       "      <td>3.0</td>\n",
       "      <td>35</td>\n",
       "      <td>242403.715876</td>\n",
       "      <td>5.0</td>\n",
       "      <td>1</td>\n",
       "      <td>193455.822517</td>\n",
       "    </tr>\n",
       "  </tbody>\n",
       "</table>\n",
       "<p>3 rows × 45 columns</p>\n",
       "</div>"
      ],
      "text/plain": [
       "  DistrictId  Rooms     Square  LifeSquare  KitchenSquare  Floor  HouseFloor  \\\n",
       "0         35    2.0  47.981561   29.442751            6.0    7.0         9.0   \n",
       "1         35    2.0  43.325817   22.487877            6.0    7.0        14.0   \n",
       "2         35    3.0  60.434211   42.717400            6.0    9.0         9.0   \n",
       "\n",
       "   HouseYear  Ecology_1  Ecology_2  ...  Room_square     Price_m2  \\\n",
       "0       1969    0.08904          1  ...    14.721375  3854.958571   \n",
       "1       1969    0.08904          1  ...    11.243939  4481.748059   \n",
       "2       1969    0.08904          1  ...    14.239133  4880.709056   \n",
       "\n",
       "   median_Price_m2  floor_cat  year_cat  DistrictId_popular  \\\n",
       "0      4358.274853        3.0       3.0                  35   \n",
       "1      4358.274853        3.0       3.0                  35   \n",
       "2      4358.274853        3.0       3.0                  35   \n",
       "\n",
       "   MedPriceByDistrict  DistrictId_count new_district  MedPriceByFloorYear  \n",
       "0       207786.135836               5.0            1        193455.822517  \n",
       "1       207786.135836               5.0            1        193455.822517  \n",
       "2       242403.715876               5.0            1        193455.822517  \n",
       "\n",
       "[3 rows x 45 columns]"
      ]
     },
     "execution_count": 2367,
     "metadata": {},
     "output_type": "execute_result"
    }
   ],
   "source": [
    "med_price_by_floor_year = concat_df.groupby(['year_cat', 'floor_cat'], as_index=False).agg({'Price':'median'}).\\\n",
    "                                            rename(columns={'Price':'MedPriceByFloorYear'})\n",
    "med_price_by_floor_year = pd.DataFrame(med_price_by_floor_year)    \n",
    "    \n",
    "concat_df = concat_df.merge(med_price_by_floor_year, on=['year_cat', 'floor_cat'], how='left')\n",
    "concat_df.head(3)"
   ]
  },
  {
   "cell_type": "code",
   "execution_count": 11,
   "metadata": {},
   "outputs": [],
   "source": [
    "# concat_df.info()"
   ]
  },
  {
   "cell_type": "code",
   "execution_count": null,
   "metadata": {},
   "outputs": [],
   "source": []
  },
  {
   "cell_type": "code",
   "execution_count": null,
   "metadata": {},
   "outputs": [],
   "source": []
  },
  {
   "cell_type": "code",
   "execution_count": 2369,
   "metadata": {},
   "outputs": [],
   "source": [
    "# Split your data\n",
    "X = concat_df[concat_df['label'] == 'train']\n",
    "X_final = concat_df[concat_df['label'] == 'test']\n",
    "\n",
    "# Drop your labels\n",
    "X = X.drop('label', axis=1)\n",
    "X_final = X_final.drop('label', axis=1)"
   ]
  },
  {
   "cell_type": "code",
   "execution_count": 2370,
   "metadata": {},
   "outputs": [],
   "source": [
    "X_final = X_final.drop('Price', axis=1)\n"
   ]
  },
  {
   "cell_type": "code",
   "execution_count": 2371,
   "metadata": {},
   "outputs": [
    {
     "data": {
      "text/plain": [
       "Index(['DistrictId', 'Rooms', 'Square', 'LifeSquare', 'KitchenSquare', 'Floor',\n",
       "       'HouseFloor', 'HouseYear', 'Ecology_1', 'Ecology_2', 'Ecology_3',\n",
       "       'Social_1', 'Social_2', 'Social_3', 'Helthcare_2', 'Shops_1', 'Shops_2',\n",
       "       'Price', 'Rooms_outlier', 'KitchenSquare_outlier',\n",
       "       'KitchenSquare_outlier2', 'KitchenSquare_outlier3',\n",
       "       'HouseFloor_outlier', 'HouseFloor_outlier2', 'HouseYear_outlier',\n",
       "       'Square_outlier', 'Square_outlier2', 'Square_outlier3',\n",
       "       'LifeSquare_nan', 'LifeSquare_share', 'KitchenSquare_share',\n",
       "       'Floor_in the house', 'median_rooms_district',\n",
       "       'median_rooms_house_year', 'Room_square', 'Price_m2', 'median_Price_m2',\n",
       "       'floor_cat', 'year_cat', 'DistrictId_popular', 'MedPriceByDistrict',\n",
       "       'DistrictId_count', 'new_district', 'MedPriceByFloorYear'],\n",
       "      dtype='object')"
      ]
     },
     "execution_count": 2371,
     "metadata": {},
     "output_type": "execute_result"
    }
   ],
   "source": [
    "X.columns"
   ]
  },
  {
   "cell_type": "code",
   "execution_count": 2372,
   "metadata": {},
   "outputs": [],
   "source": [
    "remain_features = ['Rooms', 'Square', 'LifeSquare', 'KitchenSquare', 'Floor',\n",
    "       'HouseFloor', 'HouseYear', 'Ecology_1', 'Ecology_2', 'Ecology_3',\n",
    "       'Social_1', 'Social_2', 'Social_3', 'Helthcare_2', 'Shops_1', 'Shops_2',\n",
    "       'Rooms_outlier', 'KitchenSquare_outlier',\n",
    "       'KitchenSquare_outlier2', 'KitchenSquare_outlier3',\n",
    "       'HouseFloor_outlier', 'HouseFloor_outlier2', 'HouseYear_outlier',\n",
    "       'Square_outlier', 'Square_outlier2', 'Square_outlier3',\n",
    "       'LifeSquare_nan', 'LifeSquare_share', 'KitchenSquare_share',\n",
    "       'Floor_in the house', 'median_rooms_district',\n",
    "       'median_rooms_house_year', 'Room_square', 'Price_m2', 'median_Price_m2',\n",
    "       'floor_cat', 'year_cat',  'MedPriceByDistrict',\n",
    "       'DistrictId_count', 'new_district', 'MedPriceByFloorYear']\n",
    "y = X[['Price']]\n",
    "X = X[remain_features]\n",
    "X_final = X_final[remain_features]"
   ]
  },
  {
   "cell_type": "code",
   "execution_count": 12,
   "metadata": {},
   "outputs": [],
   "source": [
    "# X_final.info()"
   ]
  },
  {
   "cell_type": "code",
   "execution_count": 13,
   "metadata": {},
   "outputs": [],
   "source": [
    "# X.info()"
   ]
  },
  {
   "cell_type": "code",
   "execution_count": 2375,
   "metadata": {},
   "outputs": [
    {
     "name": "stdout",
     "output_type": "stream",
     "text": [
      "[LightGBM] [Warning] Unknown parameter: min_samples_leaf\n",
      "[LightGBM] [Warning] Accuracy may be bad since you didn't explicitly set num_leaves OR 2^max_depth > num_leaves. (num_leaves=31).\n",
      "[LightGBM] [Warning] Unknown parameter: min_samples_leaf\n",
      "[LightGBM] [Warning] Accuracy may be bad since you didn't explicitly set num_leaves OR 2^max_depth > num_leaves. (num_leaves=31).\n",
      "[LightGBM] [Warning] Unknown parameter: min_samples_leaf\n",
      "[LightGBM] [Warning] Accuracy may be bad since you didn't explicitly set num_leaves OR 2^max_depth > num_leaves. (num_leaves=31).\n",
      "[LightGBM] [Warning] Unknown parameter: min_samples_leaf\n",
      "[LightGBM] [Warning] Accuracy may be bad since you didn't explicitly set num_leaves OR 2^max_depth > num_leaves. (num_leaves=31).\n",
      "[LightGBM] [Warning] Unknown parameter: min_samples_leaf\n",
      "[LightGBM] [Warning] Accuracy may be bad since you didn't explicitly set num_leaves OR 2^max_depth > num_leaves. (num_leaves=31).\n",
      "R2: 0.993 +- 0.002\n"
     ]
    }
   ],
   "source": [
    "from sklearn.ensemble import RandomForestRegressor\n",
    "from sklearn.metrics import r2_score\n",
    "from sklearn.model_selection import train_test_split, KFold, GridSearchCV, cross_val_score\n",
    "\n",
    "from lightgbm import LGBMRegressor\n",
    " \n",
    "# y = X[['Price']]\n",
    "# X = X.drop('Price', axis=1)\n",
    "\n",
    "\n",
    "model = LGBMRegressor(max_depth=7,\n",
    "                             min_samples_leaf=30,\n",
    "                             n_estimators=300,\n",
    "                             random_state=42)\n",
    "\n",
    "cv_score = cross_val_score(model, X, y, \n",
    "                           scoring='r2', \n",
    "                           cv=KFold(n_splits=5, shuffle=True, random_state=42))\n",
    "# cv_score\n",
    "mean = cv_score.mean()\n",
    "std = cv_score.std()\n",
    "\n",
    "print('R2: {:.3f} +- {:.3f}'.format(mean, std))"
   ]
  },
  {
   "cell_type": "code",
   "execution_count": 2376,
   "metadata": {},
   "outputs": [
    {
     "name": "stdout",
     "output_type": "stream",
     "text": [
      "[LightGBM] [Warning] Unknown parameter: min_samples_leaf\n",
      "[LightGBM] [Warning] Accuracy may be bad since you didn't explicitly set num_leaves OR 2^max_depth > num_leaves. (num_leaves=31).\n"
     ]
    },
    {
     "data": {
      "text/plain": [
       "LGBMRegressor(boosting_type='gbdt', class_weight=None, colsample_bytree=1.0,\n",
       "              importance_type='split', learning_rate=0.1, max_depth=7,\n",
       "              min_child_samples=20, min_child_weight=0.001, min_samples_leaf=30,\n",
       "              min_split_gain=0.0, n_estimators=300, n_jobs=-1, num_leaves=31,\n",
       "              objective=None, random_state=42, reg_alpha=0.0, reg_lambda=0.0,\n",
       "              silent=True, subsample=1.0, subsample_for_bin=200000,\n",
       "              subsample_freq=0)"
      ]
     },
     "execution_count": 2376,
     "metadata": {},
     "output_type": "execute_result"
    }
   ],
   "source": [
    "model.fit(X, y)"
   ]
  },
  {
   "cell_type": "code",
   "execution_count": 2377,
   "metadata": {},
   "outputs": [
    {
     "data": {
      "image/png": "[encoded data removed]",
      "text/plain": [
       "<Figure size 1440x432 with 1 Axes>"
      ]
     },
     "metadata": {
      "needs_background": "light"
     },
     "output_type": "display_data"
    }
   ],
   "source": [
    "import matplotlib.pyplot as plt\n",
    "import numpy as np # linear algebra\n",
    "\n",
    "def plot_feature_importances(importances, X):\n",
    "    \n",
    "    indices = np.argsort(importances)[::-1]\n",
    "\n",
    "    plt.figure(figsize = (20, 6))\n",
    "    plt.title(\"Feature importances\", fontsize=16)\n",
    "    plt.bar(range(X.shape[1]), importances[indices] / importances.sum(),\n",
    "           color=\"darkblue\", align=\"center\")\n",
    "    plt.xticks(range(X.shape[1]), X.columns[indices], rotation = 90, fontsize=14)\n",
    "    plt.xlim([-1, X.shape[1]])\n",
    "\n",
    "    plt.tight_layout()\n",
    "    # plt.savefig('fe.jpg')\n",
    "    plt.show()\n",
    "    \n",
    "plot_feature_importances(importances = model.feature_importances_, X=X)"
   ]
  },
  {
   "cell_type": "code",
   "execution_count": 2378,
   "metadata": {},
   "outputs": [],
   "source": [
    "# # Get missing columns in the training test\n",
    "# missing_cols = set( X.columns ) - set( X_final.columns )\n",
    "# # Add a missing column in test set with default value equal to 0\n",
    "# for c in missing_cols:\n",
    "#     X_final[c] = 0\n",
    "# # Ensure the order of column in the test set is in the same order than in train set\n",
    "# X_final = X_final[X.columns]\n",
    "# # X_final.head()"
   ]
  },
  {
   "cell_type": "code",
   "execution_count": 2379,
   "metadata": {},
   "outputs": [
    {
     "data": {
      "text/html": [
       "<div>\n",
       "<style scoped>\n",
       "    .dataframe tbody tr th:only-of-type {\n",
       "        vertical-align: middle;\n",
       "    }\n",
       "\n",
       "    .dataframe tbody tr th {\n",
       "        vertical-align: top;\n",
       "    }\n",
       "\n",
       "    .dataframe thead th {\n",
       "        text-align: right;\n",
       "    }\n",
       "</style>\n",
       "<table border=\"1\" class=\"dataframe\">\n",
       "  <thead>\n",
       "    <tr style=\"text-align: right;\">\n",
       "      <th></th>\n",
       "      <th>Id</th>\n",
       "      <th>Price</th>\n",
       "    </tr>\n",
       "  </thead>\n",
       "  <tbody>\n",
       "    <tr>\n",
       "      <th>0</th>\n",
       "      <td>725</td>\n",
       "      <td>61168.691773</td>\n",
       "    </tr>\n",
       "    <tr>\n",
       "      <th>1</th>\n",
       "      <td>15856</td>\n",
       "      <td>64966.618121</td>\n",
       "    </tr>\n",
       "    <tr>\n",
       "      <th>2</th>\n",
       "      <td>5480</td>\n",
       "      <td>68837.743682</td>\n",
       "    </tr>\n",
       "    <tr>\n",
       "      <th>3</th>\n",
       "      <td>15664</td>\n",
       "      <td>68666.400566</td>\n",
       "    </tr>\n",
       "    <tr>\n",
       "      <th>4</th>\n",
       "      <td>14275</td>\n",
       "      <td>73249.189129</td>\n",
       "    </tr>\n",
       "  </tbody>\n",
       "</table>\n",
       "</div>"
      ],
      "text/plain": [
       "      Id         Price\n",
       "0    725  61168.691773\n",
       "1  15856  64966.618121\n",
       "2   5480  68837.743682\n",
       "3  15664  68666.400566\n",
       "4  14275  73249.189129"
      ]
     },
     "execution_count": 2379,
     "metadata": {},
     "output_type": "execute_result"
    }
   ],
   "source": [
    "# X_final = pd.read_csv('realestatepriceprediction/test.csv')\n",
    "\n",
    "y_pred_final = model.predict(X_final)\n",
    "\n",
    "preds_final['Price'] = y_pred_final\n",
    "preds_final.to_csv('realestatepriceprediction/predictions.csv', index=False)\n",
    "\n",
    "preds_final.head()\n",
    "\n"
   ]
  },
  {
   "cell_type": "code",
   "execution_count": 2380,
   "metadata": {},
   "outputs": [
    {
     "data": {
      "text/plain": [
       "(5000, 2)"
      ]
     },
     "execution_count": 2380,
     "metadata": {},
     "output_type": "execute_result"
    }
   ],
   "source": [
    "preds_final.shape"
   ]
  },
  {
   "cell_type": "code",
   "execution_count": 2381,
   "metadata": {},
   "outputs": [
    {
     "data": {
      "text/plain": [
       "count      5000.000000\n",
       "mean      68814.651488\n",
       "std       15018.524899\n",
       "min       27067.764595\n",
       "25%       60698.072893\n",
       "50%       65367.056730\n",
       "75%       72184.660772\n",
       "max      261096.731760\n",
       "Name: Price, dtype: float64"
      ]
     },
     "execution_count": 2381,
     "metadata": {},
     "output_type": "execute_result"
    }
   ],
   "source": [
    "preds_final.Price.describe()"
   ]
  },
  {
   "cell_type": "code",
   "execution_count": null,
   "metadata": {},
   "outputs": [],
   "source": []
  }
 ],
 "metadata": {
  "kernelspec": {
   "display_name": "Python 3",
   "language": "python",
   "name": "python3"
  },
  "language_info": {
   "codemirror_mode": {
    "name": "ipython",
    "version": 3
   },
   "file_extension": ".py",
   "mimetype": "text/x-python",
   "name": "python",
   "nbconvert_exporter": "python",
   "pygments_lexer": "ipython3",
   "version": "3.7.6"
  }
 },
 "nbformat": 4,
 "nbformat_minor": 4
}
